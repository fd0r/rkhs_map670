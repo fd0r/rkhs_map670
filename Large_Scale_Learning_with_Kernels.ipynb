{
 "cells": [
  {
   "cell_type": "markdown",
   "metadata": {},
   "source": [
    "# Large scale learning with kernels\n",
    "\n",
    "1. [Imports](#imports)\n",
    "2. [Random Fourier Features](#rff)\n",
    "3. [Nÿstrom](#nÿstrom)\n",
    "3. [Experiments on synthetic data](#synthetic)\n",
    "    1. [Performance with D](#synt_D)\n",
    "    2. [Influence of the regularization](#synt_reg)\n",
    "4. [Experiments on the CT Slices dataset](#CT)\n",
    "    1. [Performance with D](#CT_D)\n",
    "    2. [Influence of the regularization](#CT_reg)\n",
    "5. [Experiments on the MillionSongs dataset](#MillionSongs)\n",
    "    1. [Performance with D](#MillionSongs_D)\n",
    "    2. [Influence of the regularization](#MillionSongs_reg)"
   ]
  },
  {
   "cell_type": "markdown",
   "metadata": {},
   "source": [
    "## Imports <a name=\"imports\"></a>"
   ]
  },
  {
   "cell_type": "code",
   "execution_count": 114,
   "metadata": {},
   "outputs": [],
   "source": [
    "import pandas as pd\n",
    "import numpy as np\n",
    "from sklearn.datasets import make_classification\n",
    "from sklearn.pipeline import Pipeline\n",
    "from sklearn.preprocessing import StandardScaler\n",
    "from sklearn.model_selection import train_test_split\n",
    "from sklearn.svm import SVR, LinearSVR, SVC, LinearSVC\n",
    "from sklearn.metrics import accuracy_score\n",
    "from sklearn.metrics import mean_squared_error\n",
    "from time import time\n",
    "import matplotlib.pyplot as plt\n",
    "import copy"
   ]
  },
  {
   "cell_type": "code",
   "execution_count": 2,
   "metadata": {},
   "outputs": [],
   "source": [
    "from google_drive_downloader import GoogleDriveDownloader as gdd\n",
    "import os\n",
    "\n",
    "DATA = {\n",
    "    \"YearPredictionMSD.txt.zip\": \"1R3CXYssjftxi7HIXXgeWCAZh65ByEumt\",\n",
    "    \"slice_localization_data.zip\": \"1ZJamggugQuj-sE1EFWfghhR3dEY2K9Ib\",\n",
    "}\n",
    "\n",
    "for file_name, file_id in DATA.items():\n",
    "    output_file = os.path.join('data', file_name)\n",
    "    gdd.download_file_from_google_drive(file_id=file_id, dest_path=output_file)"
   ]
  },
  {
   "cell_type": "markdown",
   "metadata": {},
   "source": [
    "## Random Fourier Features <a name=\"rff\"></a>"
   ]
  },
  {
   "cell_type": "code",
   "execution_count": 3,
   "metadata": {},
   "outputs": [],
   "source": [
    "class RFF(object):\n",
    "    def __init__(self, D=100, kernel=\"gaussian\", gamma=\"scale\", method=0):\n",
    "        self.D = D\n",
    "        self.kernel = kernel\n",
    "        self.gamma = gamma\n",
    "        self.method = method\n",
    "\n",
    "    def fit(self, X, y=None):\n",
    "        d = X.shape[1]\n",
    "        if self.kernel == \"gaussian\":\n",
    "            mu = np.zeros(d)\n",
    "            if self.gamma == \"scale\":\n",
    "                sigma = (1/(d*X.var()))*np.identity(d)\n",
    "            elif self.gamma == \"auto\":\n",
    "                sigma = (1/d)*np.identity(d)\n",
    "            elif type(self.gamma) == float:\n",
    "                sigma = gamma*np.identity(d)\n",
    "            else:\n",
    "                raise TypeError(\"gamma must be either 'scale', 'auto', or a float.\")\n",
    "            self.w = np.random.multivariate_normal(mu, sigma, self.D)\n",
    "            if self.method == 0:\n",
    "                pass\n",
    "            elif self.method == 1:\n",
    "                self.b = np.random.uniform(0, 2*np.pi, self.D)\n",
    "            else:\n",
    "                raise TypeError(\"method must be either 0 or 1.\")\n",
    "        return self\n",
    "                \n",
    "    def transform(self, X):\n",
    "        if self.kernel == \"gaussian\":\n",
    "            if self.method == 0:\n",
    "                return np.sqrt(1/self.D) * np.concatenate((np.cos(np.dot(X, self.w.T)), np.sin(np.dot(X, self.w.T))), axis=1)\n",
    "            if self.method == 1:\n",
    "                return np.sqrt(2/self.D) * np.cos(np.dot(X, self.w.T) + self.b)\n",
    "            else:\n",
    "                raise TypeError(\"method must be either 0 or 1.\")"
   ]
  },
  {
   "cell_type": "markdown",
   "metadata": {},
   "source": [
    "## Nyström <a name=\"nÿstrom\"></a>"
   ]
  },
  {
   "cell_type": "markdown",
   "metadata": {},
   "source": [
    "Create Nyström class"
   ]
  },
  {
   "cell_type": "markdown",
   "metadata": {},
   "source": [
    "## Experiments on synthetic data: classification <a name=\"synthetic\"></a>"
   ]
  },
  {
   "cell_type": "code",
   "execution_count": 152,
   "metadata": {},
   "outputs": [],
   "source": [
    "X, y = make_classification(n_samples=50000, n_features=120, n_informative=15, n_classes=2, random_state=17)"
   ]
  },
  {
   "cell_type": "code",
   "execution_count": 153,
   "metadata": {},
   "outputs": [],
   "source": [
    "X_train, X_test, y_train, y_test = train_test_split(X, y, random_state=24)"
   ]
  },
  {
   "cell_type": "code",
   "execution_count": 154,
   "metadata": {},
   "outputs": [],
   "source": [
    "lin = Pipeline([('Scaler',StandardScaler()),\n",
    "                ('LinearSVC', LinearSVC(dual=False)),])\n",
    "\n",
    "t0 = time()\n",
    "lin.fit(X_train, y_train)\n",
    "time_lin = time() - t0\n",
    "\n",
    "y_pred_train_lin = lin.predict(X_train)                      \n",
    "score_train_lin = accuracy_score(y_train, y_pred_train_lin)\n",
    "\n",
    "y_pred_lin = lin.predict(X_test)                      \n",
    "score_lin = accuracy_score(y_test, y_pred_lin)"
   ]
  },
  {
   "cell_type": "code",
   "execution_count": 155,
   "metadata": {},
   "outputs": [],
   "source": [
    "gauss = Pipeline([('Scaler',StandardScaler()),\n",
    "                  ('SVC', SVC(kernel='rbf')),])\n",
    "\n",
    "t0 = time()\n",
    "gauss.fit(X_train, y_train)\n",
    "time_gauss = time() - t0\n",
    "\n",
    "y_pred_train_gauss = gauss.predict(X_train)                      \n",
    "score_train_gauss = accuracy_score(y_train, y_pred_train_gauss)\n",
    "\n",
    "y_pred_gauss = gauss.predict(X_test)                      \n",
    "score_gauss = accuracy_score(y_test, y_pred_gauss)"
   ]
  },
  {
   "cell_type": "code",
   "execution_count": 157,
   "metadata": {},
   "outputs": [],
   "source": [
    "np.savetxt('synthetic_clf_results/score_lin.csv', np.asarray([score_lin]), delimiter=',')\n",
    "np.savetxt('synthetic_clf_results/score_train_lin.csv', np.asarray([score_train_lin]), delimiter=',')\n",
    "np.savetxt('synthetic_clf_results/time_lin.csv', np.asarray([time_lin]), delimiter=',')\n",
    "np.savetxt('synthetic_clf_results/score_gauss.csv', np.asarray([score_gauss]), delimiter=',')\n",
    "np.savetxt('synthetic_clf_results/score_train_gauss.csv', np.asarray([score_train_gauss]), delimiter=',')\n",
    "np.savetxt('synthetic_clf_results/time_gauss.csv', np.asarray([time_gauss]), delimiter=',')"
   ]
  },
  {
   "cell_type": "markdown",
   "metadata": {},
   "source": [
    "### Performance with D <a name=\"synt_D\"></a>"
   ]
  },
  {
   "cell_type": "code",
   "execution_count": 158,
   "metadata": {},
   "outputs": [],
   "source": [
    "nD = 10\n",
    "list_D = np.linspace(300,3500,nD,dtype=int)\n",
    "M = 10\n",
    "scores_rff = np.empty((nD,M))\n",
    "scores_train_rff = np.empty((nD,M))\n",
    "times_rff = np.empty((nD,M))\n",
    "\n",
    "for i,D in enumerate(list_D):\n",
    "    for j in range(M):\n",
    "        rff = Pipeline([('Scaler',StandardScaler()),\n",
    "                        ('RFF',RFF(D = D)),\n",
    "                        ('LinearSVC', LinearSVC(dual=False)),])\n",
    "        \n",
    "        t0 = time()\n",
    "        rff.fit(X_train, y_train)\n",
    "        times_rff[i,j] = time() - t0\n",
    "        \n",
    "        y_pred_train_rff = rff.predict(X_train)                      \n",
    "        scores_train_rff[i,j] = accuracy_score(y_train, y_pred_train_rff)\n",
    "        \n",
    "        y_pred_rff = rff.predict(X_test)                      \n",
    "        scores_rff[i,j] = accuracy_score(y_test, y_pred_rff)"
   ]
  },
  {
   "cell_type": "code",
   "execution_count": 159,
   "metadata": {},
   "outputs": [],
   "source": [
    "np.savetxt('synthetic_clf_results/scores_rff.csv', scores_rff, delimiter=',')\n",
    "np.savetxt('synthetic_clf_results/scores_train_rff.csv', scores_train_rff, delimiter=',')\n",
    "np.savetxt('synthetic_clf_results/times_rff.csv', times_rff, delimiter=',')\n",
    "np.savetxt('synthetic_clf_results/list_D.csv', list_D, delimiter=',')"
   ]
  },
  {
   "cell_type": "code",
   "execution_count": 160,
   "metadata": {},
   "outputs": [
    {
     "data": {
      "image/png": "[encoded data removed]",
      "text/plain": [
       "<Figure size 1440x504 with 2 Axes>"
      ]
     },
     "metadata": {
      "needs_background": "light"
     },
     "output_type": "display_data"
    }
   ],
   "source": [
    "fig = plt.figure(figsize=(20,7))\n",
    "\n",
    "# Plot of the performance\n",
    "\n",
    "ax1 = plt.subplot(1,2,1)\n",
    "\n",
    "y_max = max(max(np.mean(scores_rff, axis=1) + np.std(scores_rff, axis=1)),\n",
    "            max(np.mean(scores_train_rff, axis=1) + np.std(scores_train_rff, axis=1)),\n",
    "            score_lin, score_gauss)+0.01\n",
    "y_min = min(min(np.mean(scores_rff, axis=1) - np.std(scores_rff, axis=1)),\n",
    "            min(np.mean(scores_train_rff, axis=1) - np.std(scores_train_rff, axis=1)),\n",
    "            score_lin, score_gauss)-0.01\n",
    "\n",
    "ax1.set_ylim(y_min, y_max)\n",
    "\n",
    "ax1.plot(list_D, np.mean(scores_rff, axis=1), '-', color='blue', label='LinearSVC with RFF')\n",
    "ax1.fill_between(list_D, np.mean(scores_rff, axis=1) - np.std(scores_rff, axis=1),\n",
    "                 np.mean(scores_rff, axis=1) + np.std(scores_rff, axis=1), \n",
    "                 color='blue', alpha=0.15)\n",
    "ax1.plot(list_D, np.mean(scores_train_rff, axis=1), '*', markersize=8, color='dodgerblue',\n",
    "         label='LinearSVC with RFF, training')\n",
    "ax1.plot(list_D, np.mean(scores_train_rff, axis=1) - np.std(scores_train_rff, axis=1), ':',color='dodgerblue')\n",
    "ax1.plot(list_D, np.mean(scores_train_rff, axis=1) + np.std(scores_train_rff, axis=1), ':',color='dodgerblue')\n",
    "\n",
    "ax1.axhline(y=score_lin, color='darkorange', linestyle='--', label='LinearSVC')\n",
    "ax1.axhline(y=score_gauss, color='r', linestyle='--', label='SVC with gaussian kernel')\n",
    "\n",
    "ax1.set_title(\"Performance evolution with D\")\n",
    "ax1.set_xlabel(\"D\")\n",
    "ax1.set_ylabel(\"Accuracy score\")\n",
    "\n",
    "handles, labels = ax1.get_legend_handles_labels()\n",
    "handles = [copy.copy(ha) for ha in handles ]\n",
    "handles[1].set_linestyle(':')\n",
    "ax1.legend(loc='upper left', handles=handles, labels=labels)\n",
    "\n",
    "# Plot of the execution time\n",
    "\n",
    "ax2 = plt.subplot(1,2,2)\n",
    "\n",
    "y_max = max(max(np.mean(times_rff, axis=1) + np.std(times_rff, axis=1)),time_lin)+5\n",
    "y_min = min(min(np.mean(times_rff, axis=1) - np.std(times_rff, axis=1)),time_lin)-5\n",
    "\n",
    "ax2.set_ylim(y_min, y_max)\n",
    "\n",
    "ax2.plot(list_D, np.mean(times_rff, axis=1), '-', color='blue', label='LinearSVC with RFF')\n",
    "ax2.fill_between(list_D, np.mean(times_rff, axis=1) - np.std(times_rff, axis=1),\n",
    "                 np.mean(times_rff, axis=1) + np.std(times_rff, axis=1), \n",
    "                 color='blue', alpha=0.15)\n",
    "\n",
    "ax2.axhline(y=time_lin, color='darkorange', linestyle='--', label='LinearSVC')\n",
    "ax2.axhline(y=time_gauss, color='r', linestyle='--', label='SVC with gaussian kernel')\n",
    "\n",
    "ax2.set_title(\"Execution time evolution with D\")\n",
    "ax2.set_xlabel(\"D\")\n",
    "ax2.set_ylabel(\"Execution time in seconds\")\n",
    "\n",
    "ax2.legend(loc='upper left')\n",
    "\n",
    "plt.savefig(\"D_influence_synthetic_clf\")\n",
    "plt.show()"
   ]
  },
  {
   "cell_type": "code",
   "execution_count": 161,
   "metadata": {},
   "outputs": [
    {
     "name": "stdout",
     "output_type": "stream",
     "text": [
      "SVC with gaussian kernel execution time: 242.52361536026\n"
     ]
    }
   ],
   "source": [
    "print(\"SVC with gaussian kernel execution time:\", time_gauss)"
   ]
  },
  {
   "cell_type": "markdown",
   "metadata": {},
   "source": [
    "### Influence of the regularization  <a name=\"synt_reg\"></a>"
   ]
  },
  {
   "cell_type": "code",
   "execution_count": 162,
   "metadata": {},
   "outputs": [],
   "source": [
    "nC = 8\n",
    "list_C = np.linspace(0.01,2,nC)\n",
    "M = 10"
   ]
  },
  {
   "cell_type": "code",
   "execution_count": null,
   "metadata": {},
   "outputs": [],
   "source": [
    "scores_rff_h = np.empty((nC,M))\n",
    "scores_train_rff_h = np.empty((nC,M))\n",
    "times_rff_h = np.empty((nC,M))\n",
    "\n",
    "for i,C in enumerate(list_C):\n",
    "    for j in range(M):\n",
    "        rff = Pipeline([('Scaler',StandardScaler()),\n",
    "                        ('RFF',RFF(D = 2500)),\n",
    "                        ('LinearSVC', LinearSVC(dual=False, C = C, loss='hinge')),])\n",
    "        \n",
    "        t0 = time()\n",
    "        rff.fit(X_train, y_train)\n",
    "        times_rff_h[i,j] = time() - t0\n",
    "\n",
    "        y_pred_train_rff = rff.predict(X_train)                      \n",
    "        scores_train_rff_h[i,j] = accuracy_score(y_train, y_pred_train_rff)\n",
    "        \n",
    "        y_pred_rff = rff.predict(X_test)                      \n",
    "        scores_rff_h[i,j] = accuracy_score(y_test, y_pred_rff)"
   ]
  },
  {
   "cell_type": "code",
   "execution_count": null,
   "metadata": {},
   "outputs": [],
   "source": [
    "scores_rff_sh = np.empty((nC,M))\n",
    "scores_train_rff_sh = np.empty((nC,M))\n",
    "times_rff_sh = np.empty((nC,M))\n",
    "\n",
    "for i,C in enumerate(list_C):\n",
    "    for j in range(M):\n",
    "        rff = Pipeline([('Scaler',StandardScaler()),\n",
    "                        ('RFF',RFF(D = 2500)),\n",
    "                        ('LinearSVC', LinearSVR(dual=False, C = C)),])\n",
    "        \n",
    "        t0 = time()\n",
    "        rff.fit(X_train, y_train)\n",
    "        times_rff_sh[i,j] = time() - t0\n",
    "\n",
    "        y_pred_train_rff = rff.predict(X_train)                      \n",
    "        scores_train_rff_sh[i,j] = accuracy_score(y_train, y_pred_train_rff)\n",
    "        \n",
    "        y_pred_rff = rff.predict(X_test)                      \n",
    "        scores_rff_sh[i,j] = accuracy_score(y_test, y_pred_rff)"
   ]
  },
  {
   "cell_type": "code",
   "execution_count": null,
   "metadata": {},
   "outputs": [],
   "source": [
    "np.savetxt('synthetic_clf_results/scores_rff_h.csv', scores_rff_l1, delimiter=',')\n",
    "np.savetxt('synthetic_clf_results/scores_train_rff_h.csv', scores_train_rff_l1, delimiter=',')\n",
    "np.savetxt('synthetic_clf_results/times_rff_h.csv', times_rff_l1, delimiter=',')\n",
    "np.savetxt('synthetic_clf_results/scores_rff_sh.csv', scores_rff_l2, delimiter=',')\n",
    "np.savetxt('synthetic_clf_results/scores_train_rff_sh.csv', scores_train_rff_l2, delimiter=',')\n",
    "np.savetxt('synthetic_clf_results/times_rff_sh.csv', times_rff_l2, delimiter=',')\n",
    "np.savetxt('synthetic_clf_results/list_C.csv', list_C, delimiter=',')"
   ]
  },
  {
   "cell_type": "code",
   "execution_count": null,
   "metadata": {},
   "outputs": [],
   "source": [
    "fig = plt.figure(figsize=(20,7))\n",
    "\n",
    "# Plot of the performance\n",
    "\n",
    "ax1 = plt.subplot(1,2,1)\n",
    "\n",
    "y_max = max(max(np.mean(scores_rff_h, axis=1) + np.std(scores_rff_h, axis=1)),\n",
    "            max(np.mean(scores_train_rff_h, axis=1) + np.std(scores_train_rff_h, axis=1)),\n",
    "            max(np.mean(scores_rff_sh, axis=1) + np.std(scores_rff_sh, axis=1)),\n",
    "            max(np.mean(scores_train_rff_sh, axis=1) + np.std(scores_train_rff_sh, axis=1)),\n",
    "            score_lin, score_gauss)+0.01\n",
    "y_min = min(min(np.mean(scores_rff_h, axis=1) - np.std(scores_rff_h, axis=1)),\n",
    "            min(np.mean(scores_train_rff_h, axis=1) - np.std(scores_train_rff_h, axis=1)),\n",
    "            min(np.mean(scores_rff_sh, axis=1) - np.std(scores_rff_sh, axis=1)),\n",
    "            min(np.mean(scores_train_rff_sh, axis=1) - np.std(scores_train_rff_sh, axis=1)),\n",
    "            score_lin, score_gauss)-0.01\n",
    "\n",
    "ax1.set_ylim(y_min, y_max)\n",
    "\n",
    "ax1.plot(list_C, np.mean(scores_rff_h, axis=1), '-', color='blue', label='LinearSVC with RFF, hinge loss')\n",
    "ax1.fill_between(list_C, np.mean(scores_rff_h, axis=1) - np.std(scores_rff_h, axis=1),\n",
    "                 np.mean(scores_rff_h, axis=1) + np.std(scores_rff_h, axis=1), \n",
    "                 color='blue', alpha=0.15)\n",
    "\n",
    "ax1.plot(list_C, np.mean(scores_train_rff_h, axis=1), '*', markersize=8, color='dodgerblue',\n",
    "         label='LinearSVC with RFF, hinge loss, training')\n",
    "ax1.plot(list_C, np.mean(scores_train_rff_h, axis=1) - np.std(scores_train_rff_h, axis=1), ':',color='dodgerblue')\n",
    "ax1.plot(list_C, np.mean(scores_train_rff_h, axis=1) + np.std(scores_train_rff_h, axis=1), ':',color='dodgerblue')\n",
    "\n",
    "ax1.plot(list_C, np.mean(scores_rff_sh, axis=1), '-', color='darkgreen', label='LinearSVC with RFF, squared-hinge loss')\n",
    "ax1.fill_between(list_C, np.mean(scores_rff_sh, axis=1) - np.std(scores_rff_sh, axis=1),\n",
    "                 np.mean(scores_rff_sh, axis=1) + np.std(scores_rff_sh, axis=1), \n",
    "                 color='darkgreen', alpha=0.15)\n",
    "\n",
    "ax1.plot(list_C, np.mean(scores_train_rff_l2, axis=1), '*', markersize=8, color='lightgreen',\n",
    "         label='LinearSVC with RFF, squared-hinge loss, training')\n",
    "ax1.plot(list_C, np.mean(scores_train_rff_sh, axis=1) - np.std(scores_train_rff_sh, axis=1), ':',color='lightgreen')\n",
    "ax1.plot(list_C, np.mean(scores_train_rff_sh, axis=1) + np.std(scores_train_rff_sh, axis=1), ':',color='lightgreen')\n",
    "\n",
    "ax1.axhline(y=score_lin, color='darkorange', linestyle='--', label='LinearSVC')\n",
    "ax1.axhline(y=score_gauss, color='r', linestyle='--', label='SVC with gaussian kernel')\n",
    "\n",
    "ax1.set_title(\"Performance evolution with C, regularization parameter\")\n",
    "ax1.set_xlabel(\"C\")\n",
    "ax1.set_ylabel(\"Accuracy score\")\n",
    "\n",
    "handles, labels = ax1.get_legend_handles_labels()\n",
    "handles = [copy.copy(ha) for ha in handles ]\n",
    "handles[1].set_linestyle(':')\n",
    "handles[3].set_linestyle(':')\n",
    "ax1.legend(loc='upper right', handles=handles, labels=labels)\n",
    "\n",
    "# Plot of the execution time\n",
    "\n",
    "ax2 = plt.subplot(1,2,2)\n",
    "\n",
    "y_max = max(max(np.mean(times_rff_h, axis=1) + np.std(times_rff_h, axis=1)),\n",
    "            max(np.mean(times_rff_sh, axis=1) + np.std(times_rff_sh, axis=1)),\n",
    "            time_lin)+5\n",
    "y_min = min(min(np.mean(times_rff_h, axis=1) - np.std(times_rff_h, axis=1)),\n",
    "            min(np.mean(times_rff_sh, axis=1) - np.std(times_rff_sh, axis=1)),\n",
    "            time_lin)-5\n",
    "\n",
    "ax2.set_ylim(y_min, y_max)\n",
    "\n",
    "ax2.plot(list_C, np.mean(times_rff_h, axis=1), '-', color='blue', label='LinearSVC with RFF, hinge loss')\n",
    "ax2.fill_between(list_C, np.mean(times_rff_h, axis=1) - np.std(times_rff_h, axis=1),\n",
    "                 np.mean(times_rff_h, axis=1) + np.std(times_rff_h, axis=1), \n",
    "                 color='blue', alpha=0.15)\n",
    "\n",
    "ax2.plot(list_C, np.mean(times_rff_sh, axis=1), '-', color='green', label='LinearSVC with RFF, squared-hinge loss')\n",
    "ax2.fill_between(list_C, np.mean(times_rff_sh, axis=1) - np.std(times_rff_sh, axis=1),\n",
    "                 np.mean(times_rff_sh, axis=1) + np.std(times_rff_sh, axis=1), \n",
    "                 color='green', alpha=0.15)\n",
    "\n",
    "ax2.axhline(y=time_lin, color='darkorange', linestyle='--', label='LinearSVC')\n",
    "ax2.axhline(y=time_gauss, color='r', linestyle='--', label='SVC with gaussian kernel')\n",
    "\n",
    "ax2.set_title(\"Execution time evolution with C, regularization parameter\")\n",
    "ax2.set_xlabel(\"C\")\n",
    "ax2.set_ylabel(\"Execution time in seconds\")\n",
    "\n",
    "ax2.legend(loc='upper left')\n",
    "\n",
    "plt.savefig(\"Regularization_loss_influence_synthetic_clf.png\")\n",
    "plt.show()"
   ]
  },
  {
   "cell_type": "code",
   "execution_count": null,
   "metadata": {},
   "outputs": [],
   "source": [
    "print(\"SVC with gaussian kernel execution time:\", time_gauss)"
   ]
  },
  {
   "cell_type": "code",
   "execution_count": null,
   "metadata": {},
   "outputs": [],
   "source": [
    "scores_rff_l1 = np.empty((nC,M))\n",
    "scores_train_rff_l1 = np.empty((nC,M))\n",
    "times_rff_l1 = np.empty((nC,M))\n",
    "\n",
    "for i,C in enumerate(list_C):\n",
    "    for j in range(M):\n",
    "        rff = Pipeline([('Scaler',StandardScaler()),\n",
    "                        ('RFF',RFF(D = 2000)),\n",
    "                        ('LinearSVC', LinearSVC(dual=False, C = C, penalty='l1')),])\n",
    "        \n",
    "        t0 = time()\n",
    "        rff.fit(X_train, y_train)\n",
    "        times_rff_l1[i,j] = time() - t0\n",
    "\n",
    "        y_pred_train_rff = rff.predict(X_train)                      \n",
    "        scores_train_rff_l1[i,j] = accuracy_score(y_train, y_pred_train_rff)\n",
    "        \n",
    "        y_pred_rff = rff.predict(X_test)                      \n",
    "        scores_rff_l1[i,j] = accuracy_score(y_test, y_pred_rff)"
   ]
  },
  {
   "cell_type": "code",
   "execution_count": null,
   "metadata": {},
   "outputs": [],
   "source": [
    "scores_rff_l2 = scores_rff_h #or sh\n",
    "scores_train_rff_l2 = scores_train_rff_h #or sh\n",
    "times_rff_l2 = times_rff_h #or sh"
   ]
  },
  {
   "cell_type": "code",
   "execution_count": null,
   "metadata": {},
   "outputs": [],
   "source": [
    "fig = plt.figure(figsize=(20,7))\n",
    "\n",
    "# Plot of the performance\n",
    "\n",
    "ax1 = plt.subplot(1,2,1)\n",
    "\n",
    "y_max = max(max(np.mean(scores_rff_l1, axis=1) + np.std(scores_rff_l1, axis=1)),\n",
    "            max(np.mean(scores_train_rff_l1, axis=1) + np.std(scores_train_rff_l1, axis=1)),\n",
    "            max(np.mean(scores_rff_l2, axis=1) + np.std(scores_rff_l2, axis=1)),\n",
    "            max(np.mean(scores_train_rff_l2, axis=1) + np.std(scores_train_rff_l2, axis=1)),\n",
    "            score_lin, score_gauss)+0.01\n",
    "y_min = min(min(np.mean(scores_rff_l1, axis=1) - np.std(scores_rff_l1, axis=1)),\n",
    "            min(np.mean(scores_train_rff_l1, axis=1) - np.std(scores_train_rff_l1, axis=1)),\n",
    "            min(np.mean(scores_rff_l2, axis=1) - np.std(scores_rff_l2, axis=1)),\n",
    "            min(np.mean(scores_train_rff_l2, axis=1) - np.std(scores_train_rff_l2, axis=1)),\n",
    "            score_lin, score_gauss)-0.01\n",
    "\n",
    "ax1.set_ylim(y_min, y_max)\n",
    "\n",
    "ax1.plot(list_C, np.mean(scores_rff_l1, axis=1), '-', color='blue', label='LinearSVC with RFF, regularization L1')\n",
    "ax1.fill_between(list_C, np.mean(scores_rff_l1, axis=1) - np.std(scores_rff_l1, axis=1),\n",
    "                 np.mean(scores_rff_l1, axis=1) + np.std(scores_rff_l1, axis=1), \n",
    "                 color='blue', alpha=0.15)\n",
    "\n",
    "ax1.plot(list_C, np.mean(scores_train_rff_l1, axis=1), '*', markersize=8, color='dodgerblue',\n",
    "         label='LinearSVC with RFF, regularization L1, training')\n",
    "ax1.plot(list_C, np.mean(scores_train_rff_l1, axis=1) - np.std(scores_train_rff_l1, axis=1), ':',color='dodgerblue')\n",
    "ax1.plot(list_C, np.mean(scores_train_rff_l1, axis=1) + np.std(scores_train_rff_l1, axis=1), ':',color='dodgerblue')\n",
    "\n",
    "ax1.plot(list_C, np.mean(scores_rff_l2, axis=1), '-', color='darkgreen', label='LinearSVC with RFF, regularization L2')\n",
    "ax1.fill_between(list_C, np.mean(scores_rff_l2, axis=1) - np.std(scores_rff_l2, axis=1),\n",
    "                 np.mean(scores_rff_l2, axis=1) + np.std(scores_rff_l2, axis=1), \n",
    "                 color='darkgreen', alpha=0.15)\n",
    "\n",
    "ax1.plot(list_C, np.mean(scores_train_rff_l2, axis=1), '*', markersize=8, color='lightgreen',\n",
    "         label='LinearSVC with RFF, regularization L2, training')\n",
    "ax1.plot(list_C, np.mean(scores_train_rff_l2, axis=1) - np.std(scores_train_rff_l2, axis=1), ':',color='lightgreen')\n",
    "ax1.plot(list_C, np.mean(scores_train_rff_l2, axis=1) + np.std(scores_train_rff_l2, axis=1), ':',color='lightgreen')\n",
    "\n",
    "ax1.axhline(y=score_lin, color='darkorange', linestyle='--', label='LinearSVC')\n",
    "ax1.axhline(y=score_gauss, color='r', linestyle='--', label='SVC with gaussian kernel')\n",
    "\n",
    "ax1.set_title(\"Performance evolution with C, regularization parameter\")\n",
    "ax1.set_xlabel(\"C\")\n",
    "ax1.set_ylabel(\"Accuracy score\")\n",
    "\n",
    "handles, labels = ax1.get_legend_handles_labels()\n",
    "handles = [copy.copy(ha) for ha in handles ]\n",
    "handles[1].set_linestyle(':')\n",
    "handles[3].set_linestyle(':')\n",
    "ax1.legend(loc='upper right', handles=handles, labels=labels)\n",
    "\n",
    "# Plot of the execution time\n",
    "\n",
    "ax2 = plt.subplot(1,2,2)\n",
    "\n",
    "y_max = max(max(np.mean(times_rff_l1, axis=1) + np.std(times_rff_l1, axis=1)),\n",
    "            max(np.mean(times_rff_l2, axis=1) + np.std(times_rff_l2, axis=1)),\n",
    "            time_lin)+5\n",
    "y_min = min(min(np.mean(times_rff_l1, axis=1) - np.std(times_rff_l1, axis=1)),\n",
    "            min(np.mean(times_rff_l2, axis=1) - np.std(times_rff_l2, axis=1)),\n",
    "            time_lin)-5\n",
    "\n",
    "ax2.set_ylim(y_min, y_max)\n",
    "\n",
    "ax2.plot(list_C, np.mean(times_rff_l1, axis=1), '-', color='blue', label='LinearSVC with RFF, regularization L1')\n",
    "ax2.fill_between(list_C, np.mean(times_rff_l1, axis=1) - np.std(times_rff_l1, axis=1),\n",
    "                 np.mean(times_rff_l1, axis=1) + np.std(times_rff_l1, axis=1), \n",
    "                 color='blue', alpha=0.15)\n",
    "\n",
    "ax2.plot(list_C, np.mean(times_rff_l2, axis=1), '-', color='green', label='LinearSVC with RFF, regularization L2')\n",
    "ax2.fill_between(list_C, np.mean(times_rff_l2, axis=1) - np.std(times_rff_l2, axis=1),\n",
    "                 np.mean(times_rff_l2, axis=1) + np.std(times_rff_l2, axis=1), \n",
    "                 color='green', alpha=0.15)\n",
    "\n",
    "ax2.axhline(y=time_lin, color='darkorange', linestyle='--', label='LinearSVC')\n",
    "ax2.axhline(y=time_gauss, color='r', linestyle='--', label='SVC with gaussian kernel')\n",
    "\n",
    "ax2.set_title(\"Execution time evolution with C, regularization parameter\")\n",
    "ax2.set_xlabel(\"C\")\n",
    "ax2.set_ylabel(\"Execution time in seconds\")\n",
    "\n",
    "ax2.legend(loc='upper left')\n",
    "\n",
    "plt.savefig(\"Regularization_influence_synthetic_clf.png\")\n",
    "plt.show()"
   ]
  },
  {
   "cell_type": "code",
   "execution_count": null,
   "metadata": {},
   "outputs": [],
   "source": [
    "print(\"SVC with gaussian kernel execution time:\", time_gauss)"
   ]
  },
  {
   "cell_type": "code",
   "execution_count": null,
   "metadata": {},
   "outputs": [],
   "source": [
    "np.savetxt('synthetic_clf_results/scores_rff_l1.csv', scores_rff_l1, delimiter=',')\n",
    "np.savetxt('synthetic_clf_results/scores_train_rff_l1.csv', scores_train_rff_l1, delimiter=',')\n",
    "np.savetxt('synthetic_clf_results/times_rff_l1.csv', times_rff_l1, delimiter=',')\n",
    "np.savetxt('synthetic_clf_results/scores_rff_l2.csv', scores_rff_l2, delimiter=',')\n",
    "np.savetxt('synthetic_clf_results/scores_train_rff_l2.csv', scores_train_rff_l2, delimiter=',')\n",
    "np.savetxt('synthetic_clf_results/times_rff_l2.csv', times_rff_l2, delimiter=',')"
   ]
  },
  {
   "cell_type": "markdown",
   "metadata": {},
   "source": [
    "## Experiments on the CT Slices dataset <a name=\"CT\"></a>"
   ]
  },
  {
   "cell_type": "code",
   "execution_count": 4,
   "metadata": {},
   "outputs": [],
   "source": [
    "data = pd.read_csv('data/slice_localization_data.zip')"
   ]
  },
  {
   "cell_type": "code",
   "execution_count": 5,
   "metadata": {},
   "outputs": [
    {
     "data": {
      "text/plain": [
       "(53500, 386)"
      ]
     },
     "execution_count": 5,
     "metadata": {},
     "output_type": "execute_result"
    }
   ],
   "source": [
    "data.shape"
   ]
  },
  {
   "cell_type": "code",
   "execution_count": 6,
   "metadata": {},
   "outputs": [],
   "source": [
    "features = data.drop('reference', axis=1)"
   ]
  },
  {
   "cell_type": "code",
   "execution_count": 7,
   "metadata": {},
   "outputs": [],
   "source": [
    "y = data.loc[:,'reference']"
   ]
  },
  {
   "cell_type": "code",
   "execution_count": 8,
   "metadata": {},
   "outputs": [],
   "source": [
    "X_train, X_test, y_train, y_test = train_test_split(features, y, random_state=24)\n",
    "X_train = X_train.values\n",
    "X_test = X_test.values"
   ]
  },
  {
   "cell_type": "code",
   "execution_count": 9,
   "metadata": {},
   "outputs": [
    {
     "name": "stderr",
     "output_type": "stream",
     "text": [
      "/Users/margauxzaffran/anaconda3/lib/python3.7/site-packages/sklearn/svm/_base.py:947: ConvergenceWarning: Liblinear failed to converge, increase the number of iterations.\n",
      "  \"the number of iterations.\", ConvergenceWarning)\n"
     ]
    }
   ],
   "source": [
    "lin = Pipeline([('Scaler',StandardScaler()),\n",
    "                ('LinearSVR', LinearSVR(max_iter=10000)),])\n",
    "\n",
    "t0 = time()\n",
    "lin.fit(X_train, y_train)\n",
    "time_lin = time() - t0\n",
    "\n",
    "y_pred_train_lin = lin.predict(X_train)                      \n",
    "score_train_lin = mean_squared_error(y_train, y_pred_train_lin)\n",
    "\n",
    "y_pred_lin = lin.predict(X_test)                      \n",
    "score_lin = mean_squared_error(y_test, y_pred_lin)"
   ]
  },
  {
   "cell_type": "code",
   "execution_count": 10,
   "metadata": {},
   "outputs": [],
   "source": [
    "gauss = Pipeline([('Scaler',StandardScaler()),\n",
    "                  ('SVR', SVR(kernel='rbf')),])\n",
    "\n",
    "t0 = time()\n",
    "gauss.fit(X_train, y_train)\n",
    "time_gauss = time() - t0\n",
    "\n",
    "y_pred_train_gauss = gauss.predict(X_train)                      \n",
    "score_train_gauss = mean_squared_error(y_train, y_pred_train_gauss)\n",
    "\n",
    "y_pred_gauss = gauss.predict(X_test)                      \n",
    "score_gauss = mean_squared_error(y_test, y_pred_gauss)"
   ]
  },
  {
   "cell_type": "code",
   "execution_count": null,
   "metadata": {},
   "outputs": [],
   "source": [
    "np.savetxt('CT_results/score_lin.csv', np.asarray([score_lin]), delimiter=',')\n",
    "np.savetxt('CT_results/score_train_lin.csv', np.asarray([score_train_lin]), delimiter=',')\n",
    "np.savetxt('CT_results/time_lin.csv', np.asarray([time_lin]), delimiter=',')\n",
    "np.savetxt('CT_results/score_gauss.csv', np.asarray([score_gauss]), delimiter=',')\n",
    "np.savetxt('CT_results/score_train_gauss.csv', np.asarray([score_train_gauss]), delimiter=',')\n",
    "np.savetxt('CT_results/time_gauss.csv', np.asarray([time_gauss]), delimiter=',')"
   ]
  },
  {
   "cell_type": "markdown",
   "metadata": {},
   "source": [
    "### Performance with D <a name=\"CT_D\"></a>"
   ]
  },
  {
   "cell_type": "code",
   "execution_count": 11,
   "metadata": {},
   "outputs": [],
   "source": [
    "nD = 10\n",
    "list_D = np.linspace(300,3500,nD,dtype=int)\n",
    "M = 10\n",
    "scores_rff = np.empty((nD,M))\n",
    "scores_train_rff = np.empty((nD,M))\n",
    "times_rff = np.empty((nD,M))\n",
    "\n",
    "for i,D in enumerate(list_D):\n",
    "    for j in range(M):\n",
    "        rff = Pipeline([('Scaler',StandardScaler()),\n",
    "                        ('RFF',RFF(D = D)),\n",
    "                        ('LinearSVR', LinearSVR(max_iter=10000)),])\n",
    "        \n",
    "        t0 = time()\n",
    "        rff.fit(X_train, y_train)\n",
    "        times_rff[i,j] = time() - t0\n",
    "        \n",
    "        y_pred_train_rff = rff.predict(X_train)                      \n",
    "        scores_train_rff[i,j] = mean_squared_error(y_train, y_pred_train_rff)\n",
    "        \n",
    "        y_pred_rff = rff.predict(X_test)                      \n",
    "        scores_rff[i,j] = mean_squared_error(y_test, y_pred_rff)"
   ]
  },
  {
   "cell_type": "code",
   "execution_count": null,
   "metadata": {},
   "outputs": [],
   "source": [
    "np.savetxt('CT_results/scores_rff.csv', scores_rff, delimiter=',')\n",
    "np.savetxt('CT_results/scores_train_rff.csv', scores_train_rff, delimiter=',')\n",
    "np.savetxt('CT_results/times_rff.csv', times_rff, delimiter=',')\n",
    "np.savetxt('CT_results/list_D.csv', list_D, delimiter=',')"
   ]
  },
  {
   "cell_type": "code",
   "execution_count": 112,
   "metadata": {},
   "outputs": [
    {
     "data": {
      "image/png": "[encoded data removed]",
      "text/plain": [
       "<Figure size 1440x504 with 2 Axes>"
      ]
     },
     "metadata": {
      "needs_background": "light"
     },
     "output_type": "display_data"
    }
   ],
   "source": [
    "fig = plt.figure(figsize=(20,7))\n",
    "\n",
    "# Plot of the performance\n",
    "\n",
    "ax1 = plt.subplot(1,2,1)\n",
    "\n",
    "y_max = max(max(np.mean(scores_rff, axis=1) + np.std(scores_rff, axis=1)),\n",
    "            max(np.mean(scores_train_rff, axis=1) + np.std(scores_train_rff, axis=1)),\n",
    "            score_lin, score_gauss)+1\n",
    "y_min = min(min(np.mean(scores_rff, axis=1) - np.std(scores_rff, axis=1)),\n",
    "            min(np.mean(scores_train_rff, axis=1) - np.std(scores_train_rff, axis=1)),\n",
    "            score_lin, score_gauss)-1\n",
    "\n",
    "ax1.set_ylim(y_min, y_max)\n",
    "\n",
    "ax1.plot(list_D, np.mean(scores_rff, axis=1), '-', color='blue', label='LinearSVR with RFF')\n",
    "ax1.fill_between(list_D, np.mean(scores_rff, axis=1) - np.std(scores_rff, axis=1),\n",
    "                 np.mean(scores_rff, axis=1) + np.std(scores_rff, axis=1), \n",
    "                 color='blue', alpha=0.15)\n",
    "ax1.plot(list_D, np.mean(scores_train_rff, axis=1), '*', markersize=8, color='dodgerblue',\n",
    "         label='LinearSVR with RFF, training')\n",
    "ax1.plot(list_D, np.mean(scores_train_rff, axis=1) - np.std(scores_train_rff, axis=1), ':',color='dodgerblue')\n",
    "ax1.plot(list_D, np.mean(scores_train_rff, axis=1) + np.std(scores_train_rff, axis=1), ':',color='dodgerblue')\n",
    "\n",
    "ax1.axhline(y=score_lin, color='darkorange', linestyle='--', label='LinearSVR')\n",
    "ax1.axhline(y=score_gauss, color='r', linestyle='--', label='SVR with gaussian kernel')\n",
    "\n",
    "ax1.set_title(\"Performance evolution with D\")\n",
    "ax1.set_xlabel(\"D\")\n",
    "ax1.set_ylabel(\"Mean squared error\")\n",
    "\n",
    "handles, labels = ax1.get_legend_handles_labels()\n",
    "handles = [copy.copy(ha) for ha in handles ]\n",
    "handles[1].set_linestyle(':')\n",
    "ax1.legend(loc='upper right', handles=handles, labels=labels)\n",
    "\n",
    "# Plot of the execution time\n",
    "\n",
    "ax2 = plt.subplot(1,2,2)\n",
    "\n",
    "y_max = max(max(np.mean(times_rff, axis=1) + np.std(times_rff, axis=1)),time_lin)+5\n",
    "y_min = min(min(np.mean(times_rff, axis=1) - np.std(times_rff, axis=1)),time_lin)-5\n",
    "\n",
    "ax2.set_ylim(y_min, y_max)\n",
    "\n",
    "ax2.plot(list_D, np.mean(times_rff, axis=1), '-', color='blue', label='LinearSVR with RFF')\n",
    "ax2.fill_between(list_D, np.mean(times_rff, axis=1) - np.std(times_rff, axis=1),\n",
    "                 np.mean(times_rff, axis=1) + np.std(times_rff, axis=1), \n",
    "                 color='blue', alpha=0.15)\n",
    "\n",
    "ax2.axhline(y=time_lin, color='darkorange', linestyle='--', label='LinearSVR')\n",
    "ax2.axhline(y=time_gauss, color='r', linestyle='--', label='SVR with gaussian kernel')\n",
    "\n",
    "ax2.set_title(\"Execution time evolution with D\")\n",
    "ax2.set_xlabel(\"D\")\n",
    "ax2.set_ylabel(\"Execution time in seconds\")\n",
    "\n",
    "ax2.legend(loc='upper left')\n",
    "\n",
    "plt.savefig(\"D_influence_CT\")\n",
    "plt.show()"
   ]
  },
  {
   "cell_type": "code",
   "execution_count": 13,
   "metadata": {},
   "outputs": [
    {
     "name": "stdout",
     "output_type": "stream",
     "text": [
      "SVR with gaussian kernel execution time: 1274.2267017364502\n"
     ]
    }
   ],
   "source": [
    "print(\"SVR with gaussian kernel execution time:\", time_gauss)"
   ]
  },
  {
   "cell_type": "markdown",
   "metadata": {},
   "source": [
    "### Influence of the regularization  <a name=\"CT_reg\"></a>"
   ]
  },
  {
   "cell_type": "code",
   "execution_count": 14,
   "metadata": {},
   "outputs": [],
   "source": [
    "nC = 8\n",
    "list_C = np.linspace(0.01,2,nC)\n",
    "M = 10"
   ]
  },
  {
   "cell_type": "code",
   "execution_count": 15,
   "metadata": {},
   "outputs": [],
   "source": [
    "scores_rff_l1 = np.empty((nC,M))\n",
    "scores_train_rff_l1 = np.empty((nC,M))\n",
    "times_rff_l1 = np.empty((nC,M))\n",
    "\n",
    "for i,C in enumerate(list_C):\n",
    "    for j in range(M):\n",
    "        rff = Pipeline([('Scaler',StandardScaler()),\n",
    "                        ('RFF',RFF(D = 2000)),\n",
    "                        ('LinearSVR', LinearSVR(C = C, max_iter=10000)),])\n",
    "        \n",
    "        t0 = time()\n",
    "        rff.fit(X_train, y_train)\n",
    "        times_rff_l1[i,j] = time() - t0\n",
    "\n",
    "        y_pred_train_rff = rff.predict(X_train)                      \n",
    "        scores_train_rff_l1[i,j] = mean_squared_error(y_train, y_pred_train_rff)\n",
    "        \n",
    "        y_pred_rff = rff.predict(X_test)                      \n",
    "        scores_rff_l1[i,j] = mean_squared_error(y_test, y_pred_rff)"
   ]
  },
  {
   "cell_type": "code",
   "execution_count": 16,
   "metadata": {},
   "outputs": [],
   "source": [
    "scores_rff_l2 = np.empty((nC,M))\n",
    "scores_train_rff_l2 = np.empty((nC,M))\n",
    "times_rff_l2 = np.empty((nC,M))\n",
    "\n",
    "for i,C in enumerate(list_C):\n",
    "    for j in range(M):\n",
    "        rff = Pipeline([('Scaler',StandardScaler()),\n",
    "                        ('RFF',RFF(D = 2000)),\n",
    "                        ('LinearSVR', LinearSVR(C = C, loss='squared_epsilon_insensitive', max_iter=10000)),])\n",
    "        \n",
    "        t0 = time()\n",
    "        rff.fit(X_train, y_train)\n",
    "        times_rff_l2[i,j] = time() - t0\n",
    "\n",
    "        y_pred_train_rff = rff.predict(X_train)                      \n",
    "        scores_train_rff_l2[i,j] = mean_squared_error(y_train, y_pred_train_rff)\n",
    "        \n",
    "        y_pred_rff = rff.predict(X_test)                      \n",
    "        scores_rff_l2[i,j] = mean_squared_error(y_test, y_pred_rff)"
   ]
  },
  {
   "cell_type": "code",
   "execution_count": 106,
   "metadata": {},
   "outputs": [],
   "source": [
    "np.savetxt('CT_results/scores_rff_l1.csv', scores_rff_l1, delimiter=',')\n",
    "np.savetxt('CT_results/scores_train_rff_l1.csv', scores_train_rff_l1, delimiter=',')\n",
    "np.savetxt('CT_results/times_rff_l1.csv', times_rff_l1, delimiter=',')\n",
    "np.savetxt('CT_results/scores_rff_l2.csv', scores_rff_l2, delimiter=',')\n",
    "np.savetxt('CT_results/scores_train_rff_l2.csv', scores_train_rff_l2, delimiter=',')\n",
    "np.savetxt('CT_results/times_rff_l2.csv', times_rff_l2, delimiter=',')\n",
    "np.savetxt('CT_results/list_C.csv', list_C, delimiter=',')"
   ]
  },
  {
   "cell_type": "code",
   "execution_count": 113,
   "metadata": {},
   "outputs": [
    {
     "data": {
      "image/png": "[encoded data removed]",
      "text/plain": [
       "<Figure size 1440x504 with 2 Axes>"
      ]
     },
     "metadata": {
      "needs_background": "light"
     },
     "output_type": "display_data"
    }
   ],
   "source": [
    "fig = plt.figure(figsize=(20,7))\n",
    "\n",
    "# Plot of the performance\n",
    "\n",
    "ax1 = plt.subplot(1,2,1)\n",
    "\n",
    "y_max = max(max(np.mean(scores_rff_l1, axis=1) + np.std(scores_rff_l1, axis=1)),\n",
    "            max(np.mean(scores_train_rff_l1, axis=1) + np.std(scores_train_rff_l1, axis=1)),\n",
    "            max(np.mean(scores_rff_l2, axis=1) + np.std(scores_rff_l2, axis=1)),\n",
    "            max(np.mean(scores_train_rff_l2, axis=1) + np.std(scores_train_rff_l2, axis=1)),\n",
    "            score_lin, score_gauss)+1\n",
    "y_min = min(min(np.mean(scores_rff_l1, axis=1) - np.std(scores_rff_l1, axis=1)),\n",
    "            min(np.mean(scores_train_rff_l1, axis=1) - np.std(scores_train_rff_l1, axis=1)),\n",
    "            min(np.mean(scores_rff_l2, axis=1) - np.std(scores_rff_l2, axis=1)),\n",
    "            min(np.mean(scores_train_rff_l2, axis=1) - np.std(scores_train_rff_l2, axis=1)),\n",
    "            score_lin, score_gauss)-1\n",
    "\n",
    "ax1.set_ylim(y_min, y_max)\n",
    "\n",
    "ax1.plot(list_C, np.mean(scores_rff_l1, axis=1), '-', color='blue', label='LinearSVR with RFF, loss L1')\n",
    "ax1.fill_between(list_C, np.mean(scores_rff_l1, axis=1) - np.std(scores_rff_l1, axis=1),\n",
    "                 np.mean(scores_rff_l1, axis=1) + np.std(scores_rff_l1, axis=1), \n",
    "                 color='blue', alpha=0.15)\n",
    "\n",
    "ax1.plot(list_C, np.mean(scores_train_rff_l1, axis=1), '*', markersize=8, color='dodgerblue',\n",
    "         label='LinearSVR with RFF, loss L1, training')\n",
    "ax1.plot(list_C, np.mean(scores_train_rff_l1, axis=1) - np.std(scores_train_rff_l1, axis=1), ':',color='dodgerblue')\n",
    "ax1.plot(list_C, np.mean(scores_train_rff_l1, axis=1) + np.std(scores_train_rff_l1, axis=1), ':',color='dodgerblue')\n",
    "\n",
    "ax1.plot(list_C, np.mean(scores_rff_l2, axis=1), '-', color='darkgreen', label='LinearSVR with RFF, loss L2')\n",
    "ax1.fill_between(list_C, np.mean(scores_rff_l2, axis=1) - np.std(scores_rff_l2, axis=1),\n",
    "                 np.mean(scores_rff_l2, axis=1) + np.std(scores_rff_l2, axis=1), \n",
    "                 color='darkgreen', alpha=0.15)\n",
    "\n",
    "ax1.plot(list_C, np.mean(scores_train_rff_l2, axis=1), '*', markersize=8, color='lightgreen',\n",
    "         label='LinearSVR with RFF, loss L2, training')\n",
    "ax1.plot(list_C, np.mean(scores_train_rff_l2, axis=1) - np.std(scores_train_rff_l2, axis=1), ':',color='lightgreen')\n",
    "ax1.plot(list_C, np.mean(scores_train_rff_l2, axis=1) + np.std(scores_train_rff_l2, axis=1), ':',color='lightgreen')\n",
    "\n",
    "ax1.axhline(y=score_lin, color='darkorange', linestyle='--', label='LinearSVR')\n",
    "ax1.axhline(y=score_gauss, color='r', linestyle='--', label='SVR with gaussian kernel')\n",
    "\n",
    "ax1.set_title(\"Performance evolution with C, regularization parameter\")\n",
    "ax1.set_xlabel(\"C\")\n",
    "ax1.set_ylabel(\"Mean squared error\")\n",
    "\n",
    "handles, labels = ax1.get_legend_handles_labels()\n",
    "handles = [copy.copy(ha) for ha in handles ]\n",
    "handles[1].set_linestyle(':')\n",
    "handles[3].set_linestyle(':')\n",
    "ax1.legend(loc='upper right', handles=handles, labels=labels)\n",
    "\n",
    "# Plot of the execution time\n",
    "\n",
    "ax2 = plt.subplot(1,2,2)\n",
    "\n",
    "y_max = max(max(np.mean(times_rff_l1, axis=1) + np.std(times_rff_l1, axis=1)),\n",
    "            max(np.mean(times_rff_l2, axis=1) + np.std(times_rff_l2, axis=1)),\n",
    "            time_lin)+5\n",
    "y_min = min(min(np.mean(times_rff_l1, axis=1) - np.std(times_rff_l1, axis=1)),\n",
    "            min(np.mean(times_rff_l2, axis=1) - np.std(times_rff_l2, axis=1)),\n",
    "            time_lin)-5\n",
    "\n",
    "ax2.set_ylim(y_min, y_max)\n",
    "\n",
    "ax2.plot(list_C, np.mean(times_rff_l1, axis=1), '-', color='blue', label='LinearSVR with RFF, loss L1')\n",
    "ax2.fill_between(list_C, np.mean(times_rff_l1, axis=1) - np.std(times_rff_l1, axis=1),\n",
    "                 np.mean(times_rff_l1, axis=1) + np.std(times_rff_l1, axis=1), \n",
    "                 color='blue', alpha=0.15)\n",
    "\n",
    "ax2.plot(list_C, np.mean(times_rff_l2, axis=1), '-', color='green', label='LinearSVR with RFF, loss L2')\n",
    "ax2.fill_between(list_C, np.mean(times_rff_l2, axis=1) - np.std(times_rff_l2, axis=1),\n",
    "                 np.mean(times_rff_l2, axis=1) + np.std(times_rff_l2, axis=1), \n",
    "                 color='green', alpha=0.15)\n",
    "\n",
    "ax2.axhline(y=time_lin, color='darkorange', linestyle='--', label='LinearSVR')\n",
    "ax2.axhline(y=time_gauss, color='r', linestyle='--', label='SVR with gaussian kernel')\n",
    "\n",
    "ax2.set_title(\"Execution time evolution with C, regularization parameter\")\n",
    "ax2.set_xlabel(\"C\")\n",
    "ax2.set_ylabel(\"Execution time in seconds\")\n",
    "\n",
    "ax2.legend(loc='upper left')\n",
    "\n",
    "plt.savefig(\"Regularization_influence_CT.png\")\n",
    "plt.show()"
   ]
  },
  {
   "cell_type": "code",
   "execution_count": 18,
   "metadata": {},
   "outputs": [
    {
     "name": "stdout",
     "output_type": "stream",
     "text": [
      "SVR with gaussian kernel execution time: 1274.2267017364502\n"
     ]
    }
   ],
   "source": [
    "print(\"SVR with gaussian kernel execution time:\", time_gauss)"
   ]
  },
  {
   "cell_type": "markdown",
   "metadata": {},
   "source": [
    "## Experiments on the MillionSongs dataset <a name=\"MillionSongs\"></a>"
   ]
  },
  {
   "cell_type": "code",
   "execution_count": null,
   "metadata": {},
   "outputs": [],
   "source": [
    "data = pd.read_csv('data/YearPredictionMSD.txt.zip', header = None)"
   ]
  },
  {
   "cell_type": "code",
   "execution_count": null,
   "metadata": {},
   "outputs": [],
   "source": [
    "data.shape"
   ]
  },
  {
   "cell_type": "code",
   "execution_count": null,
   "metadata": {},
   "outputs": [],
   "source": [
    "features = data.drop(0, axis=1)\n",
    "y = data.iloc[:,0]"
   ]
  },
  {
   "cell_type": "code",
   "execution_count": null,
   "metadata": {},
   "outputs": [],
   "source": [
    "X_train, X_test, y_train, y_test = train_test_split(features, y, random_state=24)\n",
    "X_train = X_train.values\n",
    "X_test = X_test.values"
   ]
  },
  {
   "cell_type": "code",
   "execution_count": null,
   "metadata": {},
   "outputs": [],
   "source": [
    "lin = Pipeline([('Scaler',StandardScaler()),\n",
    "                ('LinearSVR', LinearSVR()),])\n",
    "\n",
    "t0 = time()\n",
    "lin.fit(X_train, y_train)\n",
    "time_lin = time() - t0\n",
    "\n",
    "y_pred_train_lin = lin.predict(X_train)                      \n",
    "score_train_lin = mean_squared_error(y_train, y_pred_train_lin)\n",
    "\n",
    "y_pred_lin = lin.predict(X_test)                      \n",
    "score_lin = mean_squared_error(y_test, y_pred_lin)"
   ]
  },
  {
   "cell_type": "code",
   "execution_count": null,
   "metadata": {},
   "outputs": [],
   "source": [
    "gauss = Pipeline([('Scaler',StandardScaler()),\n",
    "                  ('SVR', SVR(kernel='rbf')),])\n",
    "\n",
    "t0 = time()\n",
    "gauss.fit(X_train, y_train)\n",
    "time_gauss = time() - t0\n",
    "\n",
    "y_pred_train_gauss = gauss.predict(X_train)                      \n",
    "score_train_gauss = mean_squared_error(y_train, y_pred_train_gauss)\n",
    "\n",
    "y_pred_gauss = gauss.predict(X_test)                      \n",
    "score_gauss = mean_squared_error(y_test, y_pred_gauss)"
   ]
  },
  {
   "cell_type": "code",
   "execution_count": null,
   "metadata": {},
   "outputs": [],
   "source": [
    "np.savetxt('MillionSongs_results/score_lin.csv', np.asarray([score_lin]), delimiter=',')\n",
    "np.savetxt('MillionSongs_results/score_train_lin.csv', np.asarray([score_train_lin]), delimiter=',')\n",
    "np.savetxt('MillionSongs_results/time_lin.csv', np.asarray([time_lin]), delimiter=',')\n",
    "np.savetxt('MillionSongs_results/score_gauss.csv', np.asarray([score_gauss]), delimiter=',')\n",
    "np.savetxt('MillionSongs_results/score_train_gauss.csv', np.asarray([score_train_gauss]), delimiter=',')\n",
    "np.savetxt('MillionSongs_results/time_gauss.csv', np.asarray([time_gauss]), delimiter=',')"
   ]
  },
  {
   "cell_type": "markdown",
   "metadata": {},
   "source": [
    "### Performance with D <a name=\"MillionSongs_D\"></a>"
   ]
  },
  {
   "cell_type": "code",
   "execution_count": null,
   "metadata": {},
   "outputs": [],
   "source": [
    "nD = 10\n",
    "list_D = np.linspace(300,3500,nD,dtype=int)\n",
    "M = 10\n",
    "scores_rff = np.empty((nD,M))\n",
    "scores_train_rff = np.empty((nD,M))\n",
    "times_rff = np.empty((nD,M))\n",
    "\n",
    "for i,D in enumerate(list_D):\n",
    "    for j in range(M):\n",
    "        rff = Pipeline([('Scaler',StandardScaler()),\n",
    "                        ('RFF',RFF(D = D)),\n",
    "                        ('LinearSVR', LinearSVR()),])\n",
    "        \n",
    "        t0 = time()\n",
    "        rff.fit(X_train, y_train)\n",
    "        times_rff[i,j] = time() - t0\n",
    "        \n",
    "        y_pred_train_rff = rff.predict(X_train)                      \n",
    "        scores_train_rff[i,j] = mean_squared_error(y_train, y_pred_train_rff)\n",
    "        \n",
    "        y_pred_rff = rff.predict(X_test)                      \n",
    "        scores_rff[i,j] = mean_squared_error(y_test, y_pred_rff)"
   ]
  },
  {
   "cell_type": "code",
   "execution_count": null,
   "metadata": {},
   "outputs": [],
   "source": [
    "np.savetxt('MillionSongs_results/scores_rff.csv', scores_rff, delimiter=',')\n",
    "np.savetxt('MillionSongs_results/scores_train_rff.csv', scores_train_rff, delimiter=',')\n",
    "np.savetxt('MillionSongs_results/times_rff.csv', times_rff, delimiter=',')\n",
    "np.savetxt('MillionSongs_results/list_D.csv', list_D, delimiter=',')"
   ]
  },
  {
   "cell_type": "code",
   "execution_count": null,
   "metadata": {},
   "outputs": [],
   "source": [
    "fig = plt.figure(figsize=(20,7))\n",
    "\n",
    "# Plot of the performance\n",
    "\n",
    "ax1 = plt.subplot(1,2,1)\n",
    "\n",
    "y_max = max(max(np.mean(scores_rff, axis=1) + np.std(scores_rff, axis=1)),\n",
    "            max(np.mean(scores_train_rff, axis=1) + np.std(scores_train_rff, axis=1)),\n",
    "            score_lin, score_gauss)+1\n",
    "y_min = min(min(np.mean(scores_rff, axis=1) - np.std(scores_rff, axis=1)),\n",
    "            min(np.mean(scores_train_rff, axis=1) - np.std(scores_train_rff, axis=1)),\n",
    "            score_lin, score_gauss)-1\n",
    "\n",
    "ax1.set_ylim(y_min, y_max)\n",
    "\n",
    "ax1.plot(list_D, np.mean(scores_rff, axis=1), '-', color='blue', label='LinearSVR with RFF')\n",
    "ax1.fill_between(list_D, np.mean(scores_rff, axis=1) - np.std(scores_rff, axis=1),\n",
    "                 np.mean(scores_rff, axis=1) + np.std(scores_rff, axis=1), \n",
    "                 color='blue', alpha=0.15)\n",
    "ax1.plot(list_D, np.mean(scores_train_rff, axis=1), '*', markersize=8, color='dodgerblue',\n",
    "         label='LinearSVR with RFF, training')\n",
    "ax1.plot(list_D, np.mean(scores_train_rff, axis=1) - np.std(scores_train_rff, axis=1), ':',color='dodgerblue')\n",
    "ax1.plot(list_D, np.mean(scores_train_rff, axis=1) + np.std(scores_train_rff, axis=1), ':',color='dodgerblue')\n",
    "\n",
    "ax1.axhline(y=score_lin, color='darkorange', linestyle='--', label='LinearSVR')\n",
    "ax1.axhline(y=score_gauss, color='r', linestyle='--', label='SVR with gaussian kernel')\n",
    "\n",
    "ax1.set_title(\"Performance evolution with D\")\n",
    "ax1.set_xlabel(\"D\")\n",
    "ax1.set_ylabel(\"Mean squared error\")\n",
    "\n",
    "handles, labels = ax1.get_legend_handles_labels()\n",
    "handles = [copy.copy(ha) for ha in handles ]\n",
    "handles[1].set_linestyle(':')\n",
    "ax1.legend(loc='upper right', handles=handles, labels=labels)\n",
    "\n",
    "# Plot of the execution time\n",
    "\n",
    "ax2 = plt.subplot(1,2,2)\n",
    "\n",
    "y_max = max(max(np.mean(times_rff, axis=1) + np.std(times_rff, axis=1)),time_lin)+5\n",
    "y_min = min(min(np.mean(times_rff, axis=1) - np.std(times_rff, axis=1)),time_lin)-5\n",
    "\n",
    "ax2.set_ylim(y_min, y_max)\n",
    "\n",
    "ax2.plot(list_D, np.mean(times_rff, axis=1), '-', color='blue', label='LinearSVR with RFF')\n",
    "ax2.fill_between(list_D, np.mean(times_rff, axis=1) - np.std(times_rff, axis=1),\n",
    "                 np.mean(times_rff, axis=1) + np.std(times_rff, axis=1), \n",
    "                 color='blue', alpha=0.15)\n",
    "\n",
    "ax2.axhline(y=time_lin, color='darkorange', linestyle='--', label='LinearSVR')\n",
    "ax2.axhline(y=time_gauss, color='r', linestyle='--', label='SVR with gaussian kernel')\n",
    "\n",
    "ax2.set_title(\"Execution time evolution with D\")\n",
    "ax2.set_xlabel(\"D\")\n",
    "ax2.set_ylabel(\"Execution time in seconds\")\n",
    "\n",
    "ax2.legend(loc='upper left')\n",
    "\n",
    "plt.savefig(\"D_influence_MillionSongs\")\n",
    "plt.show()"
   ]
  },
  {
   "cell_type": "code",
   "execution_count": null,
   "metadata": {},
   "outputs": [],
   "source": [
    "print(\"SVR with gaussian kernel execution time:\", time_gauss)"
   ]
  },
  {
   "cell_type": "markdown",
   "metadata": {},
   "source": [
    "### Influence of the regularization  <a name=\"MillionSongs_reg\"></a>"
   ]
  },
  {
   "cell_type": "code",
   "execution_count": null,
   "metadata": {},
   "outputs": [],
   "source": [
    "nC = 8\n",
    "list_C = np.linspace(0.01,2,nC)\n",
    "M = 10"
   ]
  },
  {
   "cell_type": "code",
   "execution_count": null,
   "metadata": {},
   "outputs": [],
   "source": [
    "scores_rff_l1 = np.empty((nC,M))\n",
    "scores_train_rff_l1 = np.empty((nC,M))\n",
    "times_rff_l1 = np.empty((nC,M))\n",
    "\n",
    "for i,C in enumerate(list_C):\n",
    "    for j in range(M):\n",
    "        rff = Pipeline([('Scaler',StandardScaler()),\n",
    "                        ('RFF',RFF(D = 2000)),\n",
    "                        ('LinearSVR', LinearSVR(C = C)),])\n",
    "        \n",
    "        t0 = time()\n",
    "        rff.fit(X_train, y_train)\n",
    "        times_rff_l1[i,j] = time() - t0\n",
    "\n",
    "        y_pred_train_rff = rff.predict(X_train)                      \n",
    "        scores_train_rff_l1[i,j] = mean_squared_error(y_train, y_pred_train_rff)\n",
    "        \n",
    "        y_pred_rff = rff.predict(X_test)                      \n",
    "        scores_rff_l1[i,j] = mean_squared_error(y_test, y_pred_rff)"
   ]
  },
  {
   "cell_type": "code",
   "execution_count": null,
   "metadata": {},
   "outputs": [],
   "source": [
    "scores_rff_l2 = np.empty((nC,M))\n",
    "scores_train_rff_l2 = np.empty((nC,M))\n",
    "times_rff_l2 = np.empty((nC,M))\n",
    "\n",
    "for i,C in enumerate(list_C):\n",
    "    for j in range(M):\n",
    "        rff = Pipeline([('Scaler',StandardScaler()),\n",
    "                        ('RFF',RFF(D = 2000)),\n",
    "                        ('LinearSVR', LinearSVR(C = C, loss='squared_epsilon_insensitive')),])\n",
    "        \n",
    "        t0 = time()\n",
    "        rff.fit(X_train, y_train)\n",
    "        times_rff_l2[i,j] = time() - t0\n",
    "\n",
    "        y_pred_train_rff = rff.predict(X_train)                      \n",
    "        scores_train_rff_l2[i,j] = mean_squared_error(y_train, y_pred_train_rff)\n",
    "        \n",
    "        y_pred_rff = rff.predict(X_test)                      \n",
    "        scores_rff_l2[i,j] = mean_squared_error(y_test, y_pred_rff)"
   ]
  },
  {
   "cell_type": "code",
   "execution_count": null,
   "metadata": {},
   "outputs": [],
   "source": [
    "np.savetxt('MillionSongs_results/scores_rff_l1.csv', scores_rff_l1, delimiter=',')\n",
    "np.savetxt('MillionSongs_results/scores_train_rff_l1.csv', scores_train_rff_l1, delimiter=',')\n",
    "np.savetxt('MillionSongs_results/times_rff_l1.csv', times_rff_l1, delimiter=',')\n",
    "np.savetxt('MillionSongs_results/scores_rff_l2.csv', scores_rff_l2, delimiter=',')\n",
    "np.savetxt('MillionSongs_results/scores_train_rff_l2.csv', scores_train_rff_l2, delimiter=',')\n",
    "np.savetxt('MillionSongs_results/times_rff_l2.csv', times_rff_l2, delimiter=',')\n",
    "np.savetxt('MillionSongs_results/list_C.csv', list_C, delimiter=',')"
   ]
  },
  {
   "cell_type": "code",
   "execution_count": null,
   "metadata": {},
   "outputs": [],
   "source": [
    "fig = plt.figure(figsize=(20,7))\n",
    "\n",
    "# Plot of the performance\n",
    "\n",
    "ax1 = plt.subplot(1,2,1)\n",
    "\n",
    "y_max = max(max(np.mean(scores_rff_l1, axis=1) + np.std(scores_rff_l1, axis=1)),\n",
    "            max(np.mean(scores_train_rff_l1, axis=1) + np.std(scores_train_rff_l1, axis=1)),\n",
    "            max(np.mean(scores_rff_l2, axis=1) + np.std(scores_rff_l2, axis=1)),\n",
    "            max(np.mean(scores_train_rff_l2, axis=1) + np.std(scores_train_rff_l2, axis=1)),\n",
    "            score_lin, score_gauss)+1\n",
    "y_min = min(min(np.mean(scores_rff_l1, axis=1) - np.std(scores_rff_l1, axis=1)),\n",
    "            min(np.mean(scores_train_rff_l1, axis=1) - np.std(scores_train_rff_l1, axis=1)),\n",
    "            min(np.mean(scores_rff_l2, axis=1) - np.std(scores_rff_l2, axis=1)),\n",
    "            min(np.mean(scores_train_rff_l2, axis=1) - np.std(scores_train_rff_l2, axis=1)),\n",
    "            score_lin, score_gauss)-1\n",
    "\n",
    "ax1.set_ylim(y_min, y_max)\n",
    "\n",
    "ax1.plot(list_C, np.mean(scores_rff_l1, axis=1), '-', color='blue', label='LinearSVR with RFF, loss L1')\n",
    "ax1.fill_between(list_C, np.mean(scores_rff_l1, axis=1) - np.std(scores_rff_l1, axis=1),\n",
    "                 np.mean(scores_rff_l1, axis=1) + np.std(scores_rff_l1, axis=1), \n",
    "                 color='blue', alpha=0.15)\n",
    "\n",
    "ax1.plot(list_C, np.mean(scores_train_rff_l1, axis=1), '*', markersize=8, color='dodgerblue',\n",
    "         label='LinearSVR with RFF, loss L1, training')\n",
    "ax1.plot(list_C, np.mean(scores_train_rff_l1, axis=1) - np.std(scores_train_rff_l1, axis=1), ':',color='dodgerblue')\n",
    "ax1.plot(list_C, np.mean(scores_train_rff_l1, axis=1) + np.std(scores_train_rff_l1, axis=1), ':',color='dodgerblue')\n",
    "\n",
    "ax1.plot(list_C, np.mean(scores_rff_l2, axis=1), '-', color='darkgreen', label='LinearSVR with RFF, loss L2')\n",
    "ax1.fill_between(list_C, np.mean(scores_rff_l2, axis=1) - np.std(scores_rff_l2, axis=1),\n",
    "                 np.mean(scores_rff_l2, axis=1) + np.std(scores_rff_l2, axis=1), \n",
    "                 color='darkgreen', alpha=0.15)\n",
    "\n",
    "ax1.plot(list_C, np.mean(scores_train_rff_l2, axis=1), '*', markersize=8, color='lightgreen',\n",
    "         label='LinearSVR with RFF, loss L2, training')\n",
    "ax1.plot(list_C, np.mean(scores_train_rff_l2, axis=1) - np.std(scores_train_rff_l2, axis=1), ':',color='lightgreen')\n",
    "ax1.plot(list_C, np.mean(scores_train_rff_l2, axis=1) + np.std(scores_train_rff_l2, axis=1), ':',color='lightgreen')\n",
    "\n",
    "ax1.axhline(y=score_lin, color='darkorange', linestyle='--', label='LinearSVR')\n",
    "ax1.axhline(y=score_gauss, color='r', linestyle='--', label='SVR with gaussian kernel')\n",
    "\n",
    "ax1.set_title(\"Performance evolution with C, regularization parameter\")\n",
    "ax1.set_xlabel(\"C\")\n",
    "ax1.set_ylabel(\"Mean squared error\")\n",
    "\n",
    "handles, labels = ax1.get_legend_handles_labels()\n",
    "handles = [copy.copy(ha) for ha in handles ]\n",
    "handles[1].set_linestyle(':')\n",
    "handles[3].set_linestyle(':')\n",
    "ax1.legend(loc='upper right', handles=handles, labels=labels)\n",
    "\n",
    "# Plot of the execution time\n",
    "\n",
    "ax2 = plt.subplot(1,2,2)\n",
    "\n",
    "y_max = max(max(np.mean(times_rff_l1, axis=1) + np.std(times_rff_l1, axis=1)),\n",
    "            max(np.mean(times_rff_l2, axis=1) + np.std(times_rff_l2, axis=1)),\n",
    "            time_lin)+5\n",
    "y_min = min(min(np.mean(times_rff_l1, axis=1) - np.std(times_rff_l1, axis=1)),\n",
    "            min(np.mean(times_rff_l2, axis=1) - np.std(times_rff_l2, axis=1)),\n",
    "            time_lin)-5\n",
    "\n",
    "ax2.set_ylim(y_min, y_max)\n",
    "\n",
    "ax2.plot(list_C, np.mean(times_rff_l1, axis=1), '-', color='blue', label='LinearSVR with RFF, loss L1')\n",
    "ax2.fill_between(list_C, np.mean(times_rff_l1, axis=1) - np.std(times_rff_l1, axis=1),\n",
    "                 np.mean(times_rff_l1, axis=1) + np.std(times_rff_l1, axis=1), \n",
    "                 color='blue', alpha=0.15)\n",
    "\n",
    "ax2.plot(list_C, np.mean(times_rff_l2, axis=1), '-', color='green', label='LinearSVR with RFF, loss L2')\n",
    "ax2.fill_between(list_C, np.mean(times_rff_l2, axis=1) - np.std(times_rff_l2, axis=1),\n",
    "                 np.mean(times_rff_l2, axis=1) + np.std(times_rff_l2, axis=1), \n",
    "                 color='green', alpha=0.15)\n",
    "\n",
    "ax2.axhline(y=time_lin, color='darkorange', linestyle='--', label='LinearSVR')\n",
    "ax2.axhline(y=time_gauss, color='r', linestyle='--', label='SVR with gaussian kernel')\n",
    "\n",
    "ax2.set_title(\"Execution time evolution with C, regularization parameter\")\n",
    "ax2.set_xlabel(\"C\")\n",
    "ax2.set_ylabel(\"Execution time in seconds\")\n",
    "\n",
    "ax2.legend(loc='upper left')\n",
    "\n",
    "plt.savefig(\"Regularization_influence_CT.png\")\n",
    "plt.show()"
   ]
  },
  {
   "cell_type": "code",
   "execution_count": null,
   "metadata": {},
   "outputs": [],
   "source": [
    "print(\"SVR with gaussian kernel execution time:\", time_gauss)"
   ]
  }
 ],
 "metadata": {
  "kernelspec": {
   "display_name": "Python 3",
   "language": "python",
   "name": "python3"
  },
  "language_info": {
   "codemirror_mode": {
    "name": "ipython",
    "version": 3
   },
   "file_extension": ".py",
   "mimetype": "text/x-python",
   "name": "python",
   "nbconvert_exporter": "python",
   "pygments_lexer": "ipython3",
   "version": "3.7.4"
  }
 },
 "nbformat": 4,
 "nbformat_minor": 2
}
