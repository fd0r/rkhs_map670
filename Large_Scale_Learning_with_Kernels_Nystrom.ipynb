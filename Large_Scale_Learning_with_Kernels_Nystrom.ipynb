{
 "cells": [
  {
   "cell_type": "markdown",
   "metadata": {},
   "source": [
    "# Large scale learning with kernels\n",
    "\n",
    "1. [Imports](#imports)\n",
    "2. [Random Fourier Features](#nys)\n",
    "3. [Nÿstrom](#nÿstrom)\n",
    "3. [Experiments on synthetic data](#synthetic)\n",
    "    1. [Performance with D](#synt_D)\n",
    "    2. [Influence of the regularization](#synt_reg)\n",
    "4. [Experiments on the CT Slices dataset](#CT)\n",
    "    1. [Performance with D](#CT_D)\n",
    "    2. [Influence of the regularization](#CT_reg)\n",
    "5. [Experiments on the MillionSongs dataset](#MillionSongs)\n",
    "    1. [Performance with D](#MillionSongs_D)\n",
    "    2. [Influence of the regularization](#MillionSongs_reg)"
   ]
  },
  {
   "cell_type": "markdown",
   "metadata": {},
   "source": [
    "## Imports <a name=\"imports\"></a>"
   ]
  },
  {
   "cell_type": "code",
   "execution_count": 1,
   "metadata": {},
   "outputs": [],
   "source": [
    "import pandas as pd\n",
    "import numpy as np\n",
    "from sklearn.datasets import make_classification\n",
    "from sklearn.pipeline import Pipeline\n",
    "from sklearn.preprocessing import StandardScaler\n",
    "from sklearn.model_selection import train_test_split\n",
    "from sklearn.svm import SVR, LinearSVR, SVC, LinearSVC\n",
    "from sklearn.metrics import accuracy_score\n",
    "from sklearn.metrics import mean_squared_error\n",
    "from time import time\n",
    "import matplotlib.pyplot as plt\n",
    "import copy"
   ]
  },
  {
   "cell_type": "code",
   "execution_count": 2,
   "metadata": {},
   "outputs": [],
   "source": [
    "from google_drive_downloader import GoogleDriveDownloader as gdd\n",
    "import os\n",
    "\n",
    "DATA = {\n",
    "    \"YearPredictionMSD.txt.zip\": \"1R3CXYssjftxi7HIXXgeWCAZh65ByEumt\",\n",
    "    \"slice_localization_data.zip\": \"1ZJamggugQuj-sE1EFWfghhR3dEY2K9Ib\",\n",
    "}\n",
    "\n",
    "for file_name, file_id in DATA.items():\n",
    "    output_file = os.path.join('data', file_name)\n",
    "    if not os.path.isfile(output_file):\n",
    "        gdd.download_file_from_google_drive(file_id=file_id, dest_path=output_file)"
   ]
  },
  {
   "cell_type": "markdown",
   "metadata": {},
   "source": [
    "## Nyström <a name=\"nÿstrom\"></a>"
   ]
  },
  {
   "cell_type": "code",
   "execution_count": 3,
   "metadata": {},
   "outputs": [],
   "source": [
    "from rkhs.nystrom import PlainNystromRegressor, SGDPlainNystromRegressor, SGDPlainNystromClassifier"
   ]
  },
  {
   "cell_type": "markdown",
   "metadata": {},
   "source": [
    "## Experiments on synthetic data: classification <a name=\"synthetic\"></a>"
   ]
  },
  {
   "cell_type": "code",
   "execution_count": 4,
   "metadata": {},
   "outputs": [],
   "source": [
    "X, y = make_classification(n_samples=50000, n_features=120, n_informative=15, n_classes=2, random_state=17)"
   ]
  },
  {
   "cell_type": "code",
   "execution_count": 5,
   "metadata": {},
   "outputs": [],
   "source": [
    "X_train, X_test, y_train, y_test = train_test_split(X, y, random_state=24)"
   ]
  },
  {
   "cell_type": "code",
   "execution_count": 6,
   "metadata": {},
   "outputs": [],
   "source": [
    "lin = Pipeline([('Scaler',StandardScaler()),\n",
    "                ('LinearSVC', LinearSVC(dual=False)),])\n",
    "\n",
    "t0 = time()\n",
    "lin.fit(X_train, y_train)\n",
    "time_lin = time() - t0\n",
    "\n",
    "y_pred_train_lin = lin.predict(X_train)                      \n",
    "score_train_lin = accuracy_score(y_train, y_pred_train_lin)\n",
    "\n",
    "y_pred_lin = lin.predict(X_test)                      \n",
    "score_lin = accuracy_score(y_test, y_pred_lin)"
   ]
  },
  {
   "cell_type": "code",
   "execution_count": 7,
   "metadata": {},
   "outputs": [],
   "source": [
    "gauss = Pipeline([('Scaler',StandardScaler()),\n",
    "                  ('SVC', SVC(kernel='rbf')),])\n",
    "\n",
    "t0 = time()\n",
    "gauss.fit(X_train, y_train)\n",
    "time_gauss = time() - t0\n",
    "\n",
    "y_pred_train_gauss = gauss.predict(X_train)                      \n",
    "score_train_gauss = accuracy_score(y_train, y_pred_train_gauss)\n",
    "\n",
    "y_pred_gauss = gauss.predict(X_test)                      \n",
    "score_gauss = accuracy_score(y_test, y_pred_gauss)"
   ]
  },
  {
   "cell_type": "code",
   "execution_count": 8,
   "metadata": {},
   "outputs": [],
   "source": [
    "np.savetxt('synthetic_clf_results/score_lin.csv', np.asarray([score_lin]), delimiter=',')\n",
    "np.savetxt('synthetic_clf_results/score_train_lin.csv', np.asarray([score_train_lin]), delimiter=',')\n",
    "np.savetxt('synthetic_clf_results/time_lin.csv', np.asarray([time_lin]), delimiter=',')\n",
    "np.savetxt('synthetic_clf_results/score_gauss.csv', np.asarray([score_gauss]), delimiter=',')\n",
    "np.savetxt('synthetic_clf_results/score_train_gauss.csv', np.asarray([score_train_gauss]), delimiter=',')\n",
    "np.savetxt('synthetic_clf_results/time_gauss.csv', np.asarray([time_gauss]), delimiter=',')"
   ]
  },
  {
   "cell_type": "markdown",
   "metadata": {},
   "source": [
    "### Performance with D <a name=\"synt_D\"></a>"
   ]
  },
  {
   "cell_type": "code",
   "execution_count": 9,
   "metadata": {},
   "outputs": [
    {
     "name": "stderr",
     "output_type": "stream",
     "text": [
      "100%|███████████████████████████████████████████████████████████████████████████████████████| 10/10 [14:13<00:00, 85.33s/it]\n"
     ]
    }
   ],
   "source": [
    "from tqdm import tqdm\n",
    "nD = 10\n",
    "list_D = np.linspace(300,3500,nD,dtype=int)\n",
    "M = 10\n",
    "scores_nys = np.empty((nD,M))\n",
    "scores_train_nys = np.empty((nD,M))\n",
    "times_nys = np.empty((nD,M))\n",
    "\n",
    "for i,D in enumerate(tqdm(list_D)):\n",
    "    for j in range(M):\n",
    "        nys = Pipeline([('Scaler',StandardScaler()),\n",
    "                        ('Nystrom', SGDPlainNystromClassifier(m=D)),])\n",
    "        \n",
    "        t0 = time()\n",
    "        nys.fit(X_train, y_train)\n",
    "        times_nys[i,j] = time() - t0\n",
    "        \n",
    "        y_pred_train_nys = nys.predict(X_train)                      \n",
    "        scores_train_nys[i,j] = accuracy_score(y_train, y_pred_train_nys)\n",
    "        \n",
    "        y_pred_nys = nys.predict(X_test)                      \n",
    "        scores_nys[i,j] = accuracy_score(y_test, y_pred_nys)"
   ]
  },
  {
   "cell_type": "code",
   "execution_count": 10,
   "metadata": {},
   "outputs": [],
   "source": [
    "np.savetxt('synthetic_clf_results/scores_nys.csv', scores_nys, delimiter=',')\n",
    "np.savetxt('synthetic_clf_results/scores_train_nys.csv', scores_train_nys, delimiter=',')\n",
    "np.savetxt('synthetic_clf_results/times_nys.csv', times_nys, delimiter=',')\n",
    "np.savetxt('synthetic_clf_results/list_D_nys.csv', list_D, delimiter=',')"
   ]
  },
  {
   "cell_type": "code",
   "execution_count": 11,
   "metadata": {},
   "outputs": [
    {
     "data": {
      "image/png": "[encoded data removed]",
      "text/plain": [
       "<Figure size 1440x504 with 2 Axes>"
      ]
     },
     "metadata": {
      "needs_background": "light"
     },
     "output_type": "display_data"
    }
   ],
   "source": [
    "fig = plt.figure(figsize=(20,7))\n",
    "\n",
    "# Plot of the performance\n",
    "\n",
    "ax1 = plt.subplot(1,2,1)\n",
    "\n",
    "y_max = max(max(np.mean(scores_nys, axis=1) + np.std(scores_nys, axis=1)),\n",
    "            max(np.mean(scores_train_nys, axis=1) + np.std(scores_train_nys, axis=1)),\n",
    "            score_lin, score_gauss)+0.01\n",
    "y_min = min(min(np.mean(scores_nys, axis=1) - np.std(scores_nys, axis=1)),\n",
    "            min(np.mean(scores_train_nys, axis=1) - np.std(scores_train_nys, axis=1)),\n",
    "            score_lin, score_gauss)-0.01\n",
    "\n",
    "ax1.set_ylim(y_min, y_max)\n",
    "\n",
    "ax1.plot(list_D, np.mean(scores_nys, axis=1), '-', color='blue', label='LinearSVC with nys')\n",
    "ax1.fill_between(list_D, np.mean(scores_nys, axis=1) - np.std(scores_nys, axis=1),\n",
    "                 np.mean(scores_nys, axis=1) + np.std(scores_nys, axis=1), \n",
    "                 color='blue', alpha=0.15)\n",
    "ax1.plot(list_D, np.mean(scores_train_nys, axis=1), '-', color='dodgerblue', label='LinearSVC with nys, training')\n",
    "ax1.fill_between(list_D, np.mean(scores_train_nys, axis=1) - np.std(scores_train_nys, axis=1),\n",
    "                 np.mean(scores_train_nys, axis=1) + np.std(scores_train_nys, axis=1), \n",
    "                 color='dodgerblue', alpha=0.15)\n",
    "\n",
    "ax1.axhline(y=score_lin, color='darkorange', linestyle='--', label='LinearSVC')\n",
    "ax1.axhline(y=score_gauss, color='r', linestyle='--', label='SVC with gaussian kernel')\n",
    "\n",
    "ax1.set_title(\"Performance evolution with D\")\n",
    "ax1.set_xlabel(\"D\")\n",
    "ax1.set_ylabel(\"Accuracy score\")\n",
    "\n",
    "ax1.legend(loc='upper left') #, handles=handles, labels=labels\n",
    "\n",
    "# Plot of the execution time\n",
    "\n",
    "ax2 = plt.subplot(1,2,2)\n",
    "\n",
    "y_max = max(max(np.mean(times_nys, axis=1) + np.std(times_nys, axis=1)),time_lin)+5\n",
    "y_min = min(min(np.mean(times_nys, axis=1) - np.std(times_nys, axis=1)),time_lin)-5\n",
    "\n",
    "ax2.set_ylim(y_min, y_max)\n",
    "\n",
    "ax2.plot(list_D, np.mean(times_nys, axis=1), '-', color='blue', label='LinearSVC with nys')\n",
    "ax2.fill_between(list_D, np.mean(times_nys, axis=1) - np.std(times_nys, axis=1),\n",
    "                 np.mean(times_nys, axis=1) + np.std(times_nys, axis=1), \n",
    "                 color='blue', alpha=0.15)\n",
    "\n",
    "ax2.axhline(y=time_lin, color='darkorange', linestyle='--', label='LinearSVC')\n",
    "ax2.axhline(y=time_gauss, color='r', linestyle='--', label='SVC with gaussian kernel')\n",
    "\n",
    "ax2.set_title(\"Execution time evolution with D\")\n",
    "ax2.set_xlabel(\"D\")\n",
    "ax2.set_ylabel(\"Execution time in seconds\")\n",
    "\n",
    "ax2.legend(loc='upper left')\n",
    "\n",
    "plt.savefig(\"nys_D_influence_synthetic_clf_nys\")\n",
    "plt.show()"
   ]
  },
  {
   "cell_type": "code",
   "execution_count": 12,
   "metadata": {},
   "outputs": [
    {
     "name": "stdout",
     "output_type": "stream",
     "text": [
      "SVC with gaussian kernel execution time: 256.17949652671814\n"
     ]
    }
   ],
   "source": [
    "print(\"SVC with gaussian kernel execution time:\", time_gauss)"
   ]
  },
  {
   "cell_type": "markdown",
   "metadata": {},
   "source": [
    "### Influence of the regularization  <a name=\"synt_reg\"></a>"
   ]
  },
  {
   "cell_type": "code",
   "execution_count": 13,
   "metadata": {},
   "outputs": [],
   "source": [
    "nC = 8\n",
    "list_C = np.linspace(0.01,2,nC)\n",
    "M = 10"
   ]
  },
  {
   "cell_type": "code",
   "execution_count": 14,
   "metadata": {},
   "outputs": [],
   "source": [
    "scores_nys_h = np.empty((nC,M))\n",
    "scores_train_nys_h = np.empty((nC,M))\n",
    "times_nys_h = np.empty((nC,M))\n",
    "\n",
    "for i,C in enumerate(list_C):\n",
    "    for j in range(M):\n",
    "        nys = Pipeline([('Scaler',StandardScaler()),\n",
    "                        ('nys', SGDPlainNystromClassifier(m=2500, lambda_reg=C, loss='hinge')),])\n",
    "        \n",
    "        t0 = time()\n",
    "        nys.fit(X_train, y_train)\n",
    "        times_nys_h[i,j] = time() - t0\n",
    "\n",
    "        y_pred_train_nys = nys.predict(X_train)                      \n",
    "        scores_train_nys_h[i,j] = accuracy_score(y_train, y_pred_train_nys)\n",
    "        \n",
    "        y_pred_nys = nys.predict(X_test)                      \n",
    "        scores_nys_h[i,j] = accuracy_score(y_test, y_pred_nys)"
   ]
  },
  {
   "cell_type": "code",
   "execution_count": 15,
   "metadata": {},
   "outputs": [
    {
     "ename": "SyntaxError",
     "evalue": "invalid syntax (<ipython-input-15-71abe0f3b2c7>, line 8)",
     "output_type": "error",
     "traceback": [
      "\u001b[1;36m  File \u001b[1;32m\"<ipython-input-15-71abe0f3b2c7>\"\u001b[1;36m, line \u001b[1;32m8\u001b[0m\n\u001b[1;33m    ('nys', SGDPlainNystromClassifier(m=2500, lambda_reg=C, , loss='squared_hinge')),])\u001b[0m\n\u001b[1;37m                                                            ^\u001b[0m\n\u001b[1;31mSyntaxError\u001b[0m\u001b[1;31m:\u001b[0m invalid syntax\n"
     ]
    }
   ],
   "source": [
    "scores_nys_sh = np.empty((nC,M))\n",
    "scores_train_nys_sh = np.empty((nC,M))\n",
    "times_nys_sh = np.empty((nC,M))\n",
    "\n",
    "for i,C in enumerate(list_C):\n",
    "    for j in range(M):\n",
    "        nys = Pipeline([('Scaler',StandardScaler()),\n",
    "                        ('nys', SGDPlainNystromClassifier(m=2500, lambda_reg=C, , loss='squared_hinge')),])\n",
    "        \n",
    "        t0 = time()\n",
    "        nys.fit(X_train, y_train)\n",
    "        times_nys_sh[i,j] = time() - t0\n",
    "\n",
    "        y_pred_train_nys = nys.predict(X_train)                      \n",
    "        scores_train_nys_sh[i,j] = accuracy_score(y_train, y_pred_train_nys)\n",
    "        \n",
    "        y_pred_nys = nys.predict(X_test)                      \n",
    "        scores_nys_sh[i,j] = accuracy_score(y_test, y_pred_nys)"
   ]
  },
  {
   "cell_type": "code",
   "execution_count": null,
   "metadata": {},
   "outputs": [],
   "source": [
    "np.savetxt('synthetic_clf_results/scores_nys_h.csv', scores_nys_l1, delimiter=',')\n",
    "np.savetxt('synthetic_clf_results/scores_train_nys_h.csv', scores_train_nys_l1, delimiter=',')\n",
    "np.savetxt('synthetic_clf_results/times_nys_h.csv', times_nys_l1, delimiter=',')\n",
    "np.savetxt('synthetic_clf_results/scores_nys_sh.csv', scores_nys_l2, delimiter=',')\n",
    "np.savetxt('synthetic_clf_results/scores_train_nys_sh.csv', scores_train_nys_l2, delimiter=',')\n",
    "np.savetxt('synthetic_clf_results/times_nys_sh.csv', times_nys_l2, delimiter=',')\n",
    "np.savetxt('synthetic_clf_results/list_C_nys.csv', list_C, delimiter=',')"
   ]
  },
  {
   "cell_type": "code",
   "execution_count": null,
   "metadata": {},
   "outputs": [],
   "source": [
    "fig = plt.figure(figsize=(20,7))\n",
    "\n",
    "# Plot of the performance\n",
    "\n",
    "ax1 = plt.subplot(1,2,1)\n",
    "\n",
    "y_max = max(max(np.mean(scores_nys_h, axis=1) + np.std(scores_nys_h, axis=1)),\n",
    "            max(np.mean(scores_train_nys_h, axis=1) + np.std(scores_train_nys_h, axis=1)),\n",
    "            max(np.mean(scores_nys_sh, axis=1) + np.std(scores_nys_sh, axis=1)),\n",
    "            max(np.mean(scores_train_nys_sh, axis=1) + np.std(scores_train_nys_sh, axis=1)),\n",
    "            score_lin, score_gauss)+0.01\n",
    "y_min = min(min(np.mean(scores_nys_h, axis=1) - np.std(scores_nys_h, axis=1)),\n",
    "            min(np.mean(scores_train_nys_h, axis=1) - np.std(scores_train_nys_h, axis=1)),\n",
    "            min(np.mean(scores_nys_sh, axis=1) - np.std(scores_nys_sh, axis=1)),\n",
    "            min(np.mean(scores_train_nys_sh, axis=1) - np.std(scores_train_nys_sh, axis=1)),\n",
    "            score_lin, score_gauss)-0.01\n",
    "\n",
    "ax1.set_ylim(y_min, y_max)\n",
    "\n",
    "ax1.plot(list_C, np.mean(scores_nys_h, axis=1), '-', color='blue', label='LinearSVC with nys, hinge loss')\n",
    "ax1.fill_between(list_C, np.mean(scores_nys_h, axis=1) - np.std(scores_nys_h, axis=1),\n",
    "                 np.mean(scores_nys_h, axis=1) + np.std(scores_nys_h, axis=1), \n",
    "                 color='blue', alpha=0.15)\n",
    "\n",
    "ax1.plot(list_C, np.mean(scores_train_nys_h, axis=1), '-', color='dodgerblue', label='LinearSVC with nys, hinge loss, training')\n",
    "ax1.fill_between(list_C, np.mean(scores_train_nys_h, axis=1) - np.std(scores_train_nys_h, axis=1),\n",
    "                 np.mean(scores_train_nys_h, axis=1) + np.std(scores_train_nys_h, axis=1), \n",
    "                 color='dodgerblue', alpha=0.15)\n",
    "\n",
    "ax1.plot(list_C, np.mean(scores_nys_sh, axis=1), '-', color='darkgreen', label='LinearSVC with nys, squared-hinge loss')\n",
    "ax1.fill_between(list_C, np.mean(scores_nys_sh, axis=1) - np.std(scores_nys_sh, axis=1),\n",
    "                 np.mean(scores_nys_sh, axis=1) + np.std(scores_nys_sh, axis=1), \n",
    "                 color='darkgreen', alpha=0.15)\n",
    "\n",
    "ax1.plot(list_C, np.mean(scores_train_nys_sh, axis=1), '-', color='lightgreen', label='LinearSVC with nys, squared-hinge loss, training')\n",
    "ax1.fill_between(list_C, np.mean(scores_train_nys_sh, axis=1) - np.std(scores_train_nys_sh, axis=1),\n",
    "                 np.mean(scores_train_nys_sh, axis=1) + np.std(scores_train_nys_sh, axis=1), \n",
    "                 color='lightgreen', alpha=0.15)\n",
    "\n",
    "ax1.axhline(y=score_lin, color='darkorange', linestyle='--', label='LinearSVC')\n",
    "ax1.axhline(y=score_gauss, color='r', linestyle='--', label='SVC with gaussian kernel')\n",
    "\n",
    "ax1.set_title(\"Performance evolution with C, regularization parameter\")\n",
    "ax1.set_xlabel(\"C\")\n",
    "ax1.set_ylabel(\"Accuracy score\")\n",
    "\n",
    "ax1.legend(loc='lower left') #, handles=handles, labels=labels\n",
    "\n",
    "# Plot of the execution time\n",
    "\n",
    "ax2 = plt.subplot(1,2,2)\n",
    "\n",
    "y_max = max(max(np.mean(times_nys_h, axis=1) + np.std(times_nys_h, axis=1)),\n",
    "            max(np.mean(times_nys_sh, axis=1) + np.std(times_nys_sh, axis=1)),\n",
    "            time_lin)+5\n",
    "y_min = min(min(np.mean(times_nys_h, axis=1) - np.std(times_nys_h, axis=1)),\n",
    "            min(np.mean(times_nys_sh, axis=1) - np.std(times_nys_sh, axis=1)),\n",
    "            time_lin)-5\n",
    "\n",
    "ax2.set_ylim(y_min, y_max)\n",
    "\n",
    "ax2.plot(list_C, np.mean(times_nys_h, axis=1), '-', color='blue', label='LinearSVC with nys, hinge loss')\n",
    "ax2.fill_between(list_C, np.mean(times_nys_h, axis=1) - np.std(times_nys_h, axis=1),\n",
    "                 np.mean(times_nys_h, axis=1) + np.std(times_nys_h, axis=1), \n",
    "                 color='blue', alpha=0.15)\n",
    "\n",
    "ax2.plot(list_C, np.mean(times_nys_sh, axis=1), '-', color='green', label='LinearSVC with nys, squared-hinge loss')\n",
    "ax2.fill_between(list_C, np.mean(times_nys_sh, axis=1) - np.std(times_nys_sh, axis=1),\n",
    "                 np.mean(times_nys_sh, axis=1) + np.std(times_nys_sh, axis=1), \n",
    "                 color='green', alpha=0.15)\n",
    "\n",
    "ax2.axhline(y=time_lin, color='darkorange', linestyle='--', label='LinearSVC')\n",
    "ax2.axhline(y=time_gauss, color='r', linestyle='--', label='SVC with gaussian kernel')\n",
    "\n",
    "ax2.set_title(\"Execution time evolution with C, regularization parameter\")\n",
    "ax2.set_xlabel(\"C\")\n",
    "ax2.set_ylabel(\"Execution time in seconds\")\n",
    "\n",
    "ax2.legend(loc='upper left')\n",
    "\n",
    "plt.savefig(\"Regularization_loss_influence_synthetic_clf_nys.png\")\n",
    "plt.show()"
   ]
  },
  {
   "cell_type": "code",
   "execution_count": null,
   "metadata": {},
   "outputs": [],
   "source": [
    "print(\"SVC with gaussian kernel execution time:\", time_gauss)"
   ]
  },
  {
   "cell_type": "code",
   "execution_count": null,
   "metadata": {},
   "outputs": [],
   "source": [
    "scores_nys_l1 = np.empty((nC,M))\n",
    "scores_train_nys_l1 = np.empty((nC,M))\n",
    "times_nys_l1 = np.empty((nC,M))\n",
    "\n",
    "for i,C in enumerate(list_C):\n",
    "    for j in range(M):\n",
    "        nys = Pipeline([('Scaler',StandardScaler()),\n",
    "                        ('nys', SGDPlainNystromClassifier(m=2500, lambda_reg=C, loss='hinge', penalty='l1')),])\n",
    "        \n",
    "        t0 = time()\n",
    "        nys.fit(X_train, y_train)\n",
    "        times_nys_l1[i,j] = time() - t0\n",
    "\n",
    "        y_pred_train_nys = nys.predict(X_train)                      \n",
    "        scores_train_nys_l1[i,j] = accuracy_score(y_train, y_pred_train_nys)\n",
    "        \n",
    "        y_pred_nys = nys.predict(X_test)                      \n",
    "        scores_nys_l1[i,j] = accuracy_score(y_test, y_pred_nys)"
   ]
  },
  {
   "cell_type": "code",
   "execution_count": null,
   "metadata": {},
   "outputs": [],
   "source": [
    "scores_nys_l2 = scores_nys_sh\n",
    "scores_train_nys_l2 = scores_train_nys_sh\n",
    "times_nys_l2 = times_nys_sh"
   ]
  },
  {
   "cell_type": "code",
   "execution_count": null,
   "metadata": {},
   "outputs": [],
   "source": [
    "fig = plt.figure(figsize=(20,7))\n",
    "\n",
    "# Plot of the performance\n",
    "\n",
    "ax1 = plt.subplot(1,2,1)\n",
    "\n",
    "y_max = max(max(np.mean(scores_nys_l1, axis=1) + np.std(scores_nys_l1, axis=1)),\n",
    "            max(np.mean(scores_train_nys_l1, axis=1) + np.std(scores_train_nys_l1, axis=1)),\n",
    "            max(np.mean(scores_nys_l2, axis=1) + np.std(scores_nys_l2, axis=1)),\n",
    "            max(np.mean(scores_train_nys_l2, axis=1) + np.std(scores_train_nys_l2, axis=1)),\n",
    "            score_lin, score_gauss)+0.01\n",
    "y_min = min(min(np.mean(scores_nys_l1, axis=1) - np.std(scores_nys_l1, axis=1)),\n",
    "            min(np.mean(scores_train_nys_l1, axis=1) - np.std(scores_train_nys_l1, axis=1)),\n",
    "            min(np.mean(scores_nys_l2, axis=1) - np.std(scores_nys_l2, axis=1)),\n",
    "            min(np.mean(scores_train_nys_l2, axis=1) - np.std(scores_train_nys_l2, axis=1)),\n",
    "            score_lin, score_gauss)-0.01\n",
    "\n",
    "ax1.set_ylim(y_min, y_max)\n",
    "\n",
    "ax1.plot(list_C, np.mean(scores_nys_l1, axis=1), '-', color='blue', label='LinearSVC with nys, regularization L1')\n",
    "ax1.fill_between(list_C, np.mean(scores_nys_l1, axis=1) - np.std(scores_nys_l1, axis=1),\n",
    "                 np.mean(scores_nys_l1, axis=1) + np.std(scores_nys_l1, axis=1), \n",
    "                 color='blue', alpha=0.15)\n",
    "\n",
    "ax1.plot(list_C, np.mean(scores_train_nys_l1, axis=1), '*', markersize=8, color='dodgerblue',\n",
    "         label='LinearSVC with nys, regularization L1, training')\n",
    "ax1.plot(list_C, np.mean(scores_train_nys_l1, axis=1) - np.std(scores_train_nys_l1, axis=1), ':',color='dodgerblue')\n",
    "ax1.plot(list_C, np.mean(scores_train_nys_l1, axis=1) + np.std(scores_train_nys_l1, axis=1), ':',color='dodgerblue')\n",
    "\n",
    "ax1.plot(list_C, np.mean(scores_nys_l2, axis=1), '-', color='darkgreen', label='LinearSVC with nys, regularization L2')\n",
    "ax1.fill_between(list_C, np.mean(scores_nys_l2, axis=1) - np.std(scores_nys_l2, axis=1),\n",
    "                 np.mean(scores_nys_l2, axis=1) + np.std(scores_nys_l2, axis=1), \n",
    "                 color='darkgreen', alpha=0.15)\n",
    "\n",
    "ax1.plot(list_C, np.mean(scores_train_nys_l2, axis=1), '*', markersize=8, color='lightgreen',\n",
    "         label='LinearSVC with nys, regularization L2, training')\n",
    "ax1.plot(list_C, np.mean(scores_train_nys_l2, axis=1) - np.std(scores_train_nys_l2, axis=1), ':',color='lightgreen')\n",
    "ax1.plot(list_C, np.mean(scores_train_nys_l2, axis=1) + np.std(scores_train_nys_l2, axis=1), ':',color='lightgreen')\n",
    "\n",
    "ax1.axhline(y=score_lin, color='darkorange', linestyle='--', label='LinearSVC')\n",
    "ax1.axhline(y=score_gauss, color='r', linestyle='--', label='SVC with gaussian kernel')\n",
    "\n",
    "ax1.set_title(\"Performance evolution with C, regularization parameter\")\n",
    "ax1.set_xlabel(\"C\")\n",
    "ax1.set_ylabel(\"Accuracy score\")\n",
    "\n",
    "handles, labels = ax1.get_legend_handles_labels()\n",
    "handles = [copy.copy(ha) for ha in handles ]\n",
    "handles[1].set_linestyle(':')\n",
    "handles[3].set_linestyle(':')\n",
    "ax1.legend(loc='upper right', handles=handles, labels=labels)\n",
    "\n",
    "# Plot of the execution time\n",
    "\n",
    "ax2 = plt.subplot(1,2,2)\n",
    "\n",
    "y_max = max(max(np.mean(times_nys_l1, axis=1) + np.std(times_nys_l1, axis=1)),\n",
    "            max(np.mean(times_nys_l2, axis=1) + np.std(times_nys_l2, axis=1)),\n",
    "            time_lin)+5\n",
    "y_min = min(min(np.mean(times_nys_l1, axis=1) - np.std(times_nys_l1, axis=1)),\n",
    "            min(np.mean(times_nys_l2, axis=1) - np.std(times_nys_l2, axis=1)),\n",
    "            time_lin)-5\n",
    "\n",
    "ax2.set_ylim(y_min, y_max)\n",
    "\n",
    "ax2.plot(list_C, np.mean(times_nys_l1, axis=1), '-', color='blue', label='LinearSVC with nys, regularization L1')\n",
    "ax2.fill_between(list_C, np.mean(times_nys_l1, axis=1) - np.std(times_nys_l1, axis=1),\n",
    "                 np.mean(times_nys_l1, axis=1) + np.std(times_nys_l1, axis=1), \n",
    "                 color='blue', alpha=0.15)\n",
    "\n",
    "ax2.plot(list_C, np.mean(times_nys_l2, axis=1), '-', color='green', label='LinearSVC with nys, regularization L2')\n",
    "ax2.fill_between(list_C, np.mean(times_nys_l2, axis=1) - np.std(times_nys_l2, axis=1),\n",
    "                 np.mean(times_nys_l2, axis=1) + np.std(times_nys_l2, axis=1), \n",
    "                 color='green', alpha=0.15)\n",
    "\n",
    "ax2.axhline(y=time_lin, color='darkorange', linestyle='--', label='LinearSVC')\n",
    "ax2.axhline(y=time_gauss, color='r', linestyle='--', label='SVC with gaussian kernel')\n",
    "\n",
    "ax2.set_title(\"Execution time evolution with C, regularization parameter\")\n",
    "ax2.set_xlabel(\"C\")\n",
    "ax2.set_ylabel(\"Execution time in seconds\")\n",
    "\n",
    "ax2.legend(loc='upper left')\n",
    "\n",
    "plt.savefig(\"Regularization_influence_synthetic_clf_nys.png\")\n",
    "plt.show()"
   ]
  },
  {
   "cell_type": "code",
   "execution_count": null,
   "metadata": {},
   "outputs": [],
   "source": [
    "print(\"SVC with gaussian kernel execution time:\", time_gauss)"
   ]
  },
  {
   "cell_type": "code",
   "execution_count": null,
   "metadata": {},
   "outputs": [],
   "source": [
    "np.savetxt('synthetic_clf_results/scores_nys_l1.csv', scores_nys_l1, delimiter=',')\n",
    "np.savetxt('synthetic_clf_results/scores_train_nys_l1.csv', scores_train_nys_l1, delimiter=',')\n",
    "np.savetxt('synthetic_clf_results/times_nys_l1.csv', times_nys_l1, delimiter=',')\n",
    "np.savetxt('synthetic_clf_results/scores_nys_l2.csv', scores_nys_l2, delimiter=',')\n",
    "np.savetxt('synthetic_clf_results/scores_train_nys_l2.csv', scores_train_nys_l2, delimiter=',')\n",
    "np.savetxt('synthetic_clf_results/times_nys_l2.csv', times_nys_l2, delimiter=',')"
   ]
  },
  {
   "cell_type": "markdown",
   "metadata": {},
   "source": [
    "## Experiments on the CT Slices dataset <a name=\"CT\"></a>"
   ]
  },
  {
   "cell_type": "code",
   "execution_count": null,
   "metadata": {},
   "outputs": [],
   "source": [
    "data = pd.read_csv('data/slice_localization_data.zip')"
   ]
  },
  {
   "cell_type": "code",
   "execution_count": null,
   "metadata": {},
   "outputs": [],
   "source": [
    "data.shape"
   ]
  },
  {
   "cell_type": "code",
   "execution_count": null,
   "metadata": {},
   "outputs": [],
   "source": [
    "features = data.drop('reference', axis=1)"
   ]
  },
  {
   "cell_type": "code",
   "execution_count": null,
   "metadata": {},
   "outputs": [],
   "source": [
    "y = data.loc[:,'reference']"
   ]
  },
  {
   "cell_type": "code",
   "execution_count": null,
   "metadata": {},
   "outputs": [],
   "source": [
    "X_train, X_test, y_train, y_test = train_test_split(features, y, random_state=24)\n",
    "X_train = X_train.values\n",
    "X_test = X_test.values"
   ]
  },
  {
   "cell_type": "code",
   "execution_count": null,
   "metadata": {},
   "outputs": [],
   "source": [
    "lin = Pipeline([('Scaler',StandardScaler()),\n",
    "                ('LinearSVR', LinearSVR(max_iter=10000)),])\n",
    "\n",
    "t0 = time()\n",
    "lin.fit(X_train, y_train)\n",
    "time_lin = time() - t0\n",
    "\n",
    "y_pred_train_lin = lin.predict(X_train)                      \n",
    "score_train_lin = mean_squared_error(y_train, y_pred_train_lin)\n",
    "\n",
    "y_pred_lin = lin.predict(X_test)                      \n",
    "score_lin = mean_squared_error(y_test, y_pred_lin)"
   ]
  },
  {
   "cell_type": "code",
   "execution_count": null,
   "metadata": {},
   "outputs": [],
   "source": [
    "gauss = Pipeline([('Scaler',StandardScaler()),\n",
    "                  ('SVR', SVR(kernel='rbf')),])\n",
    "\n",
    "t0 = time()\n",
    "gauss.fit(X_train, y_train)\n",
    "time_gauss = time() - t0\n",
    "\n",
    "y_pred_train_gauss = gauss.predict(X_train)                      \n",
    "score_train_gauss = mean_squared_error(y_train, y_pred_train_gauss)\n",
    "\n",
    "y_pred_gauss = gauss.predict(X_test)                      \n",
    "score_gauss = mean_squared_error(y_test, y_pred_gauss)"
   ]
  },
  {
   "cell_type": "code",
   "execution_count": null,
   "metadata": {},
   "outputs": [],
   "source": [
    "np.savetxt('CT_results/score_lin.csv', np.asarray([score_lin]), delimiter=',')\n",
    "np.savetxt('CT_results/score_train_lin.csv', np.asarray([score_train_lin]), delimiter=',')\n",
    "np.savetxt('CT_results/time_lin.csv', np.asarray([time_lin]), delimiter=',')\n",
    "np.savetxt('CT_results/score_gauss.csv', np.asarray([score_gauss]), delimiter=',')\n",
    "np.savetxt('CT_results/score_train_gauss.csv', np.asarray([score_train_gauss]), delimiter=',')\n",
    "np.savetxt('CT_results/time_gauss.csv', np.asarray([time_gauss]), delimiter=',')"
   ]
  },
  {
   "cell_type": "markdown",
   "metadata": {},
   "source": [
    "### Performance with D <a name=\"CT_D\"></a>"
   ]
  },
  {
   "cell_type": "code",
   "execution_count": null,
   "metadata": {},
   "outputs": [],
   "source": [
    "nD = 10\n",
    "list_D = np.linspace(300,3500,nD,dtype=int)\n",
    "M = 10\n",
    "scores_nys = np.empty((nD,M))\n",
    "scores_train_nys = np.empty((nD,M))\n",
    "times_nys = np.empty((nD,M))\n",
    "\n",
    "for i,D in enumerate(list_D):\n",
    "    for j in range(M):\n",
    "        nys = Pipeline([('Scaler',StandardScaler()),\n",
    "                        ('nys', SGDPlainNystromRegressor(m=D)),])\n",
    "        \n",
    "        t0 = time()\n",
    "        nys.fit(X_train, y_train)\n",
    "        times_nys[i,j] = time() - t0\n",
    "        \n",
    "        y_pred_train_nys = nys.predict(X_train)                      \n",
    "        scores_train_nys[i,j] = mean_squared_error(y_train, y_pred_train_nys)\n",
    "        \n",
    "        y_pred_nys = nys.predict(X_test)                      \n",
    "        scores_nys[i,j] = mean_squared_error(y_test, y_pred_nys)"
   ]
  },
  {
   "cell_type": "code",
   "execution_count": null,
   "metadata": {},
   "outputs": [],
   "source": [
    "np.savetxt('CT_results/scores_nys.csv', scores_nys, delimiter=',')\n",
    "np.savetxt('CT_results/scores_train_nys.csv', scores_train_nys, delimiter=',')\n",
    "np.savetxt('CT_results/times_nys.csv', times_nys, delimiter=',')\n",
    "np.savetxt('CT_results/list_D.csv', list_D, delimiter=',')"
   ]
  },
  {
   "cell_type": "code",
   "execution_count": null,
   "metadata": {},
   "outputs": [],
   "source": [
    "fig = plt.figure(figsize=(20,7))\n",
    "\n",
    "# Plot of the performance\n",
    "\n",
    "ax1 = plt.subplot(1,2,1)\n",
    "\n",
    "y_max = max(max(np.mean(scores_nys, axis=1) + np.std(scores_nys, axis=1)),\n",
    "            max(np.mean(scores_train_nys, axis=1) + np.std(scores_train_nys, axis=1)),\n",
    "            score_lin, score_gauss)+1\n",
    "y_min = min(min(np.mean(scores_nys, axis=1) - np.std(scores_nys, axis=1)),\n",
    "            min(np.mean(scores_train_nys, axis=1) - np.std(scores_train_nys, axis=1)),\n",
    "            score_lin, score_gauss)-1\n",
    "\n",
    "ax1.set_ylim(y_min, y_max)\n",
    "\n",
    "ax1.plot(list_D, np.mean(scores_nys, axis=1), '-', color='blue', label='LinearSVR with nys')\n",
    "ax1.fill_between(list_D, np.mean(scores_nys, axis=1) - np.std(scores_nys, axis=1),\n",
    "                 np.mean(scores_nys, axis=1) + np.std(scores_nys, axis=1), \n",
    "                 color='blue', alpha=0.15)\n",
    "ax1.plot(list_D, np.mean(scores_train_nys, axis=1), '*', markersize=8, color='dodgerblue',\n",
    "         label='LinearSVR with nys, training')\n",
    "ax1.plot(list_D, np.mean(scores_train_nys, axis=1) - np.std(scores_train_nys, axis=1), ':',color='dodgerblue')\n",
    "ax1.plot(list_D, np.mean(scores_train_nys, axis=1) + np.std(scores_train_nys, axis=1), ':',color='dodgerblue')\n",
    "\n",
    "ax1.axhline(y=score_lin, color='darkorange', linestyle='--', label='LinearSVR')\n",
    "ax1.axhline(y=score_gauss, color='r', linestyle='--', label='SVR with gaussian kernel')\n",
    "\n",
    "ax1.set_title(\"Performance evolution with D\")\n",
    "ax1.set_xlabel(\"D\")\n",
    "ax1.set_ylabel(\"Mean squared error\")\n",
    "\n",
    "handles, labels = ax1.get_legend_handles_labels()\n",
    "handles = [copy.copy(ha) for ha in handles ]\n",
    "handles[1].set_linestyle(':')\n",
    "ax1.legend(loc='upper right', handles=handles, labels=labels)\n",
    "\n",
    "# Plot of the execution time\n",
    "\n",
    "ax2 = plt.subplot(1,2,2)\n",
    "\n",
    "y_max = max(max(np.mean(times_nys, axis=1) + np.std(times_nys, axis=1)),time_lin)+5\n",
    "y_min = min(min(np.mean(times_nys, axis=1) - np.std(times_nys, axis=1)),time_lin)-5\n",
    "\n",
    "ax2.set_ylim(y_min, y_max)\n",
    "\n",
    "ax2.plot(list_D, np.mean(times_nys, axis=1), '-', color='blue', label='LinearSVR with nys')\n",
    "ax2.fill_between(list_D, np.mean(times_nys, axis=1) - np.std(times_nys, axis=1),\n",
    "                 np.mean(times_nys, axis=1) + np.std(times_nys, axis=1), \n",
    "                 color='blue', alpha=0.15)\n",
    "\n",
    "ax2.axhline(y=time_lin, color='darkorange', linestyle='--', label='LinearSVR')\n",
    "ax2.axhline(y=time_gauss, color='r', linestyle='--', label='SVR with gaussian kernel')\n",
    "\n",
    "ax2.set_title(\"Execution time evolution with D\")\n",
    "ax2.set_xlabel(\"D\")\n",
    "ax2.set_ylabel(\"Execution time in seconds\")\n",
    "\n",
    "ax2.legend(loc='upper left')\n",
    "\n",
    "plt.savefig(\"D_influence_CT_nys\")\n",
    "plt.show()"
   ]
  },
  {
   "cell_type": "code",
   "execution_count": null,
   "metadata": {},
   "outputs": [],
   "source": [
    "print(\"SVR with gaussian kernel execution time:\", time_gauss)"
   ]
  },
  {
   "cell_type": "markdown",
   "metadata": {},
   "source": [
    "### Influence of the regularization  <a name=\"CT_reg\"></a>"
   ]
  },
  {
   "cell_type": "code",
   "execution_count": null,
   "metadata": {},
   "outputs": [],
   "source": [
    "nC = 8\n",
    "list_C = np.linspace(0.01,2,nC)\n",
    "M = 10"
   ]
  },
  {
   "cell_type": "code",
   "execution_count": null,
   "metadata": {},
   "outputs": [],
   "source": [
    "scores_nys_l1 = np.empty((nC,M))\n",
    "scores_train_nys_l1 = np.empty((nC,M))\n",
    "times_nys_l1 = np.empty((nC,M))\n",
    "\n",
    "for i,C in enumerate(list_C):\n",
    "    for j in range(M):\n",
    "        nys = Pipeline([('Scaler',StandardScaler()),\n",
    "                        ('nys', SGDPlainNystromRegressor(m=2000, lambda_reg=C)),])\n",
    "        \n",
    "        \n",
    "        t0 = time()\n",
    "        nys.fit(X_train, y_train)\n",
    "        times_nys_l1[i,j] = time() - t0\n",
    "\n",
    "        y_pred_train_nys = nys.predict(X_train)                      \n",
    "        scores_train_nys_l1[i,j] = mean_squared_error(y_train, y_pred_train_nys)\n",
    "        \n",
    "        y_pred_nys = nys.predict(X_test)                      \n",
    "        scores_nys_l1[i,j] = mean_squared_error(y_test, y_pred_nys)"
   ]
  },
  {
   "cell_type": "code",
   "execution_count": null,
   "metadata": {},
   "outputs": [],
   "source": [
    "scores_nys_l2 = np.empty((nC,M))\n",
    "scores_train_nys_l2 = np.empty((nC,M))\n",
    "times_nys_l2 = np.empty((nC,M))\n",
    "\n",
    "for i,C in enumerate(list_C):\n",
    "    for j in range(M):\n",
    "        nys = Pipeline([('Scaler',StandardScaler()),\n",
    "                        ('nys', SGDPlainNystromRegressor(m=2000, lambda_reg=C, \n",
    "                                                         loss='squared_epsilon_insensitive')),])\n",
    "                \n",
    "        t0 = time()\n",
    "        nys.fit(X_train, y_train)\n",
    "        times_nys_l2[i,j] = time() - t0\n",
    "\n",
    "        y_pred_train_nys = nys.predict(X_train)                      \n",
    "        scores_train_nys_l2[i,j] = mean_squared_error(y_train, y_pred_train_nys)\n",
    "        \n",
    "        y_pred_nys = nys.predict(X_test)                      \n",
    "        scores_nys_l2[i,j] = mean_squared_error(y_test, y_pred_nys)"
   ]
  },
  {
   "cell_type": "code",
   "execution_count": null,
   "metadata": {},
   "outputs": [],
   "source": [
    "np.savetxt('CT_results/scores_nys_l1.csv', scores_nys_l1, delimiter=',')\n",
    "np.savetxt('CT_results/scores_train_nys_l1.csv', scores_train_nys_l1, delimiter=',')\n",
    "np.savetxt('CT_results/times_nys_l1.csv', times_nys_l1, delimiter=',')\n",
    "np.savetxt('CT_results/scores_nys_l2.csv', scores_nys_l2, delimiter=',')\n",
    "np.savetxt('CT_results/scores_train_nys_l2.csv', scores_train_nys_l2, delimiter=',')\n",
    "np.savetxt('CT_results/times_nys_l2.csv', times_nys_l2, delimiter=',')\n",
    "np.savetxt('CT_results/list_C_nys.csv', list_C, delimiter=',')"
   ]
  },
  {
   "cell_type": "code",
   "execution_count": null,
   "metadata": {},
   "outputs": [],
   "source": [
    "fig = plt.figure(figsize=(20,7))\n",
    "\n",
    "# Plot of the performance\n",
    "\n",
    "ax1 = plt.subplot(1,2,1)\n",
    "\n",
    "y_max = max(max(np.mean(scores_nys_l1, axis=1) + np.std(scores_nys_l1, axis=1)),\n",
    "            max(np.mean(scores_train_nys_l1, axis=1) + np.std(scores_train_nys_l1, axis=1)),\n",
    "            max(np.mean(scores_nys_l2, axis=1) + np.std(scores_nys_l2, axis=1)),\n",
    "            max(np.mean(scores_train_nys_l2, axis=1) + np.std(scores_train_nys_l2, axis=1)),\n",
    "            score_lin, score_gauss)+1\n",
    "y_min = min(min(np.mean(scores_nys_l1, axis=1) - np.std(scores_nys_l1, axis=1)),\n",
    "            min(np.mean(scores_train_nys_l1, axis=1) - np.std(scores_train_nys_l1, axis=1)),\n",
    "            min(np.mean(scores_nys_l2, axis=1) - np.std(scores_nys_l2, axis=1)),\n",
    "            min(np.mean(scores_train_nys_l2, axis=1) - np.std(scores_train_nys_l2, axis=1)),\n",
    "            score_lin, score_gauss)-1\n",
    "\n",
    "ax1.set_ylim(y_min, y_max)\n",
    "\n",
    "ax1.plot(list_C, np.mean(scores_nys_l1, axis=1), '-', color='blue', label='LinearSVR with nys, loss L1')\n",
    "ax1.fill_between(list_C, np.mean(scores_nys_l1, axis=1) - np.std(scores_nys_l1, axis=1),\n",
    "                 np.mean(scores_nys_l1, axis=1) + np.std(scores_nys_l1, axis=1), \n",
    "                 color='blue', alpha=0.15)\n",
    "\n",
    "ax1.plot(list_C, np.mean(scores_train_nys_l1, axis=1), '*', markersize=8, color='dodgerblue',\n",
    "         label='LinearSVR with nys, loss L1, training')\n",
    "ax1.plot(list_C, np.mean(scores_train_nys_l1, axis=1) - np.std(scores_train_nys_l1, axis=1), ':',color='dodgerblue')\n",
    "ax1.plot(list_C, np.mean(scores_train_nys_l1, axis=1) + np.std(scores_train_nys_l1, axis=1), ':',color='dodgerblue')\n",
    "\n",
    "ax1.plot(list_C, np.mean(scores_nys_l2, axis=1), '-', color='darkgreen', label='LinearSVR with nys, loss L2')\n",
    "ax1.fill_between(list_C, np.mean(scores_nys_l2, axis=1) - np.std(scores_nys_l2, axis=1),\n",
    "                 np.mean(scores_nys_l2, axis=1) + np.std(scores_nys_l2, axis=1), \n",
    "                 color='darkgreen', alpha=0.15)\n",
    "\n",
    "ax1.plot(list_C, np.mean(scores_train_nys_l2, axis=1), '*', markersize=8, color='lightgreen',\n",
    "         label='LinearSVR with nys, loss L2, training')\n",
    "ax1.plot(list_C, np.mean(scores_train_nys_l2, axis=1) - np.std(scores_train_nys_l2, axis=1), ':',color='lightgreen')\n",
    "ax1.plot(list_C, np.mean(scores_train_nys_l2, axis=1) + np.std(scores_train_nys_l2, axis=1), ':',color='lightgreen')\n",
    "\n",
    "ax1.axhline(y=score_lin, color='darkorange', linestyle='--', label='LinearSVR')\n",
    "ax1.axhline(y=score_gauss, color='r', linestyle='--', label='SVR with gaussian kernel')\n",
    "\n",
    "ax1.set_title(\"Performance evolution with C, regularization parameter\")\n",
    "ax1.set_xlabel(\"C\")\n",
    "ax1.set_ylabel(\"Mean squared error\")\n",
    "\n",
    "handles, labels = ax1.get_legend_handles_labels()\n",
    "handles = [copy.copy(ha) for ha in handles ]\n",
    "handles[1].set_linestyle(':')\n",
    "handles[3].set_linestyle(':')\n",
    "ax1.legend(loc='upper right', handles=handles, labels=labels)\n",
    "\n",
    "# Plot of the execution time\n",
    "\n",
    "ax2 = plt.subplot(1,2,2)\n",
    "\n",
    "y_max = max(max(np.mean(times_nys_l1, axis=1) + np.std(times_nys_l1, axis=1)),\n",
    "            max(np.mean(times_nys_l2, axis=1) + np.std(times_nys_l2, axis=1)),\n",
    "            time_lin)+5\n",
    "y_min = min(min(np.mean(times_nys_l1, axis=1) - np.std(times_nys_l1, axis=1)),\n",
    "            min(np.mean(times_nys_l2, axis=1) - np.std(times_nys_l2, axis=1)),\n",
    "            time_lin)-5\n",
    "\n",
    "ax2.set_ylim(y_min, y_max)\n",
    "\n",
    "ax2.plot(list_C, np.mean(times_nys_l1, axis=1), '-', color='blue', label='LinearSVR with nys, loss L1')\n",
    "ax2.fill_between(list_C, np.mean(times_nys_l1, axis=1) - np.std(times_nys_l1, axis=1),\n",
    "                 np.mean(times_nys_l1, axis=1) + np.std(times_nys_l1, axis=1), \n",
    "                 color='blue', alpha=0.15)\n",
    "\n",
    "ax2.plot(list_C, np.mean(times_nys_l2, axis=1), '-', color='green', label='LinearSVR with nys, loss L2')\n",
    "ax2.fill_between(list_C, np.mean(times_nys_l2, axis=1) - np.std(times_nys_l2, axis=1),\n",
    "                 np.mean(times_nys_l2, axis=1) + np.std(times_nys_l2, axis=1), \n",
    "                 color='green', alpha=0.15)\n",
    "\n",
    "ax2.axhline(y=time_lin, color='darkorange', linestyle='--', label='LinearSVR')\n",
    "ax2.axhline(y=time_gauss, color='r', linestyle='--', label='SVR with gaussian kernel')\n",
    "\n",
    "ax2.set_title(\"Execution time evolution with C, regularization parameter\")\n",
    "ax2.set_xlabel(\"C\")\n",
    "ax2.set_ylabel(\"Execution time in seconds\")\n",
    "\n",
    "ax2.legend(loc='upper left')\n",
    "\n",
    "plt.savefig(\"Regularization_influence_CT_nys\")\n",
    "plt.show()"
   ]
  },
  {
   "cell_type": "code",
   "execution_count": null,
   "metadata": {},
   "outputs": [],
   "source": [
    "print(\"SVR with gaussian kernel execution time:\", time_gauss)"
   ]
  },
  {
   "cell_type": "markdown",
   "metadata": {},
   "source": [
    "## Experiments on the MillionSongs dataset <a name=\"MillionSongs\"></a>"
   ]
  },
  {
   "cell_type": "code",
   "execution_count": null,
   "metadata": {},
   "outputs": [],
   "source": [
    "data = pd.read_csv('data/YearPredictionMSD.txt.zip', header = None)"
   ]
  },
  {
   "cell_type": "code",
   "execution_count": null,
   "metadata": {},
   "outputs": [],
   "source": [
    "data.shape"
   ]
  },
  {
   "cell_type": "code",
   "execution_count": null,
   "metadata": {},
   "outputs": [],
   "source": [
    "features = data.drop(0, axis=1)\n",
    "y = data.iloc[:,0]"
   ]
  },
  {
   "cell_type": "code",
   "execution_count": null,
   "metadata": {},
   "outputs": [],
   "source": [
    "X_train, X_test, y_train, y_test = train_test_split(features, y, random_state=24)\n",
    "X_train = X_train.values\n",
    "X_test = X_test.values"
   ]
  },
  {
   "cell_type": "code",
   "execution_count": null,
   "metadata": {},
   "outputs": [],
   "source": [
    "lin = Pipeline([('Scaler',StandardScaler()),\n",
    "                ('LinearSVR', LinearSVR()),])\n",
    "\n",
    "t0 = time()\n",
    "lin.fit(X_train, y_train)\n",
    "time_lin = time() - t0\n",
    "\n",
    "y_pred_train_lin = lin.predict(X_train)                      \n",
    "score_train_lin = mean_squared_error(y_train, y_pred_train_lin)\n",
    "\n",
    "y_pred_lin = lin.predict(X_test)                      \n",
    "score_lin = mean_squared_error(y_test, y_pred_lin)"
   ]
  },
  {
   "cell_type": "code",
   "execution_count": null,
   "metadata": {},
   "outputs": [],
   "source": [
    "gauss = Pipeline([('Scaler',StandardScaler()),\n",
    "                  ('SVR', SVR(kernel='rbf')),])\n",
    "\n",
    "t0 = time()\n",
    "gauss.fit(X_train, y_train)\n",
    "time_gauss = time() - t0\n",
    "\n",
    "y_pred_train_gauss = gauss.predict(X_train)                      \n",
    "score_train_gauss = mean_squared_error(y_train, y_pred_train_gauss)\n",
    "\n",
    "y_pred_gauss = gauss.predict(X_test)                      \n",
    "score_gauss = mean_squared_error(y_test, y_pred_gauss)"
   ]
  },
  {
   "cell_type": "code",
   "execution_count": null,
   "metadata": {},
   "outputs": [],
   "source": [
    "np.savetxt('MillionSongs_results/score_lin.csv', np.asarray([score_lin]), delimiter=',')\n",
    "np.savetxt('MillionSongs_results/score_train_lin.csv', np.asarray([score_train_lin]), delimiter=',')\n",
    "np.savetxt('MillionSongs_results/time_lin.csv', np.asarray([time_lin]), delimiter=',')\n",
    "np.savetxt('MillionSongs_results/score_gauss.csv', np.asarray([score_gauss]), delimiter=',')\n",
    "np.savetxt('MillionSongs_results/score_train_gauss.csv', np.asarray([score_train_gauss]), delimiter=',')\n",
    "np.savetxt('MillionSongs_results/time_gauss.csv', np.asarray([time_gauss]), delimiter=',')"
   ]
  },
  {
   "cell_type": "markdown",
   "metadata": {},
   "source": [
    "### Performance with D <a name=\"MillionSongs_D\"></a>"
   ]
  },
  {
   "cell_type": "code",
   "execution_count": null,
   "metadata": {},
   "outputs": [],
   "source": [
    "nD = 10\n",
    "list_D = np.linspace(300,3500,nD,dtype=int)\n",
    "M = 10\n",
    "scores_nys = np.empty((nD,M))\n",
    "scores_train_nys = np.empty((nD,M))\n",
    "times_nys = np.empty((nD,M))\n",
    "\n",
    "for i,D in enumerate(list_D):\n",
    "    for j in range(M):\n",
    "        nys = Pipeline([('Scaler',StandardScaler()),\n",
    "                        ('nys', SGDPlainNystromRegressor(m=D)),])\n",
    "        \n",
    "        t0 = time()\n",
    "        nys.fit(X_train, y_train)\n",
    "        times_nys[i,j] = time() - t0\n",
    "        \n",
    "        y_pred_train_nys = nys.predict(X_train)                      \n",
    "        scores_train_nys[i,j] = mean_squared_error(y_train, y_pred_train_nys)\n",
    "        \n",
    "        y_pred_nys = nys.predict(X_test)                      \n",
    "        scores_nys[i,j] = mean_squared_error(y_test, y_pred_nys)"
   ]
  },
  {
   "cell_type": "code",
   "execution_count": null,
   "metadata": {},
   "outputs": [],
   "source": [
    "np.savetxt('MillionSongs_results/scores_nys.csv', scores_nys, delimiter=',')\n",
    "np.savetxt('MillionSongs_results/scores_train_nys.csv', scores_train_nys, delimiter=',')\n",
    "np.savetxt('MillionSongs_results/times_nys.csv', times_nys, delimiter=',')\n",
    "np.savetxt('MillionSongs_results/list_D_nys.csv', list_D, delimiter=',')"
   ]
  },
  {
   "cell_type": "code",
   "execution_count": null,
   "metadata": {},
   "outputs": [],
   "source": [
    "fig = plt.figure(figsize=(20,7))\n",
    "\n",
    "# Plot of the performance\n",
    "\n",
    "ax1 = plt.subplot(1,2,1)\n",
    "\n",
    "y_max = max(max(np.mean(scores_nys, axis=1) + np.std(scores_nys, axis=1)),\n",
    "            max(np.mean(scores_train_nys, axis=1) + np.std(scores_train_nys, axis=1)),\n",
    "            score_lin, score_gauss)+1\n",
    "y_min = min(min(np.mean(scores_nys, axis=1) - np.std(scores_nys, axis=1)),\n",
    "            min(np.mean(scores_train_nys, axis=1) - np.std(scores_train_nys, axis=1)),\n",
    "            score_lin, score_gauss)-1\n",
    "\n",
    "ax1.set_ylim(y_min, y_max)\n",
    "\n",
    "ax1.plot(list_D, np.mean(scores_nys, axis=1), '-', color='blue', label='LinearSVR with nys')\n",
    "ax1.fill_between(list_D, np.mean(scores_nys, axis=1) - np.std(scores_nys, axis=1),\n",
    "                 np.mean(scores_nys, axis=1) + np.std(scores_nys, axis=1), \n",
    "                 color='blue', alpha=0.15)\n",
    "ax1.plot(list_D, np.mean(scores_train_nys, axis=1), '*', markersize=8, color='dodgerblue',\n",
    "         label='LinearSVR with nys, training')\n",
    "ax1.plot(list_D, np.mean(scores_train_nys, axis=1) - np.std(scores_train_nys, axis=1), ':',color='dodgerblue')\n",
    "ax1.plot(list_D, np.mean(scores_train_nys, axis=1) + np.std(scores_train_nys, axis=1), ':',color='dodgerblue')\n",
    "\n",
    "ax1.axhline(y=score_lin, color='darkorange', linestyle='--', label='LinearSVR')\n",
    "ax1.axhline(y=score_gauss, color='r', linestyle='--', label='SVR with gaussian kernel')\n",
    "\n",
    "ax1.set_title(\"Performance evolution with D\")\n",
    "ax1.set_xlabel(\"D\")\n",
    "ax1.set_ylabel(\"Mean squared error\")\n",
    "\n",
    "handles, labels = ax1.get_legend_handles_labels()\n",
    "handles = [copy.copy(ha) for ha in handles ]\n",
    "handles[1].set_linestyle(':')\n",
    "ax1.legend(loc='upper right', handles=handles, labels=labels)\n",
    "\n",
    "# Plot of the execution time\n",
    "\n",
    "ax2 = plt.subplot(1,2,2)\n",
    "\n",
    "y_max = max(max(np.mean(times_nys, axis=1) + np.std(times_nys, axis=1)),time_lin)+5\n",
    "y_min = min(min(np.mean(times_nys, axis=1) - np.std(times_nys, axis=1)),time_lin)-5\n",
    "\n",
    "ax2.set_ylim(y_min, y_max)\n",
    "\n",
    "ax2.plot(list_D, np.mean(times_nys, axis=1), '-', color='blue', label='LinearSVR with nys')\n",
    "ax2.fill_between(list_D, np.mean(times_nys, axis=1) - np.std(times_nys, axis=1),\n",
    "                 np.mean(times_nys, axis=1) + np.std(times_nys, axis=1), \n",
    "                 color='blue', alpha=0.15)\n",
    "\n",
    "ax2.axhline(y=time_lin, color='darkorange', linestyle='--', label='LinearSVR')\n",
    "ax2.axhline(y=time_gauss, color='r', linestyle='--', label='SVR with gaussian kernel')\n",
    "\n",
    "ax2.set_title(\"Execution time evolution with D\")\n",
    "ax2.set_xlabel(\"D\")\n",
    "ax2.set_ylabel(\"Execution time in seconds\")\n",
    "\n",
    "ax2.legend(loc='upper left')\n",
    "\n",
    "plt.savefig(\"D_influence_MillionSongs_nys\")\n",
    "plt.show()"
   ]
  },
  {
   "cell_type": "code",
   "execution_count": null,
   "metadata": {},
   "outputs": [],
   "source": [
    "print(\"SVR with gaussian kernel execution time:\", time_gauss)"
   ]
  },
  {
   "cell_type": "markdown",
   "metadata": {},
   "source": [
    "### Influence of the regularization  <a name=\"MillionSongs_reg\"></a>"
   ]
  },
  {
   "cell_type": "code",
   "execution_count": null,
   "metadata": {},
   "outputs": [],
   "source": [
    "nC = 8\n",
    "list_C = np.linspace(0.01,2,nC)\n",
    "M = 10"
   ]
  },
  {
   "cell_type": "code",
   "execution_count": null,
   "metadata": {},
   "outputs": [],
   "source": [
    "scores_nys_l1 = np.empty((nC,M))\n",
    "scores_train_nys_l1 = np.empty((nC,M))\n",
    "times_nys_l1 = np.empty((nC,M))\n",
    "\n",
    "for i,C in enumerate(list_C):\n",
    "    for j in range(M):\n",
    "        nys = Pipeline([('Scaler',StandardScaler()),\n",
    "                ('nys', SGDPlainNystromRegressor(m=2000, lambda_reg=C)),])\n",
    "        \n",
    "        t0 = time()\n",
    "        nys.fit(X_train, y_train)\n",
    "        times_nys_l1[i,j] = time() - t0\n",
    "\n",
    "        y_pred_train_nys = nys.predict(X_train)                      \n",
    "        scores_train_nys_l1[i,j] = mean_squared_error(y_train, y_pred_train_nys)\n",
    "        \n",
    "        y_pred_nys = nys.predict(X_test)                      \n",
    "        scores_nys_l1[i,j] = mean_squared_error(y_test, y_pred_nys)"
   ]
  },
  {
   "cell_type": "code",
   "execution_count": null,
   "metadata": {},
   "outputs": [],
   "source": [
    "scores_nys_l2 = np.empty((nC,M))\n",
    "scores_train_nys_l2 = np.empty((nC,M))\n",
    "times_nys_l2 = np.empty((nC,M))\n",
    "\n",
    "for i,C in enumerate(list_C):\n",
    "    for j in range(M):\n",
    "        nys = Pipeline([('Scaler',StandardScaler()),\n",
    "                ('nys', SGDPlainNystromRegressor(m=2000, lambda_reg=C ,loss='squared_epsilon_insensitive')),])\n",
    "        \n",
    "        t0 = time()\n",
    "        nys.fit(X_train, y_train)\n",
    "        times_nys_l2[i,j] = time() - t0\n",
    "\n",
    "        y_pred_train_nys = nys.predict(X_train)                      \n",
    "        scores_train_nys_l2[i,j] = mean_squared_error(y_train, y_pred_train_nys)\n",
    "        \n",
    "        y_pred_nys = nys.predict(X_test)                      \n",
    "        scores_nys_l2[i,j] = mean_squared_error(y_test, y_pred_nys)"
   ]
  },
  {
   "cell_type": "code",
   "execution_count": null,
   "metadata": {},
   "outputs": [],
   "source": [
    "np.savetxt('MillionSongs_results/scores_nys_l1.csv', scores_nys_l1, delimiter=',')\n",
    "np.savetxt('MillionSongs_results/scores_train_nys_l1.csv', scores_train_nys_l1, delimiter=',')\n",
    "np.savetxt('MillionSongs_results/times_nys_l1.csv', times_nys_l1, delimiter=',')\n",
    "np.savetxt('MillionSongs_results/scores_nys_l2.csv', scores_nys_l2, delimiter=',')\n",
    "np.savetxt('MillionSongs_results/scores_train_nys_l2.csv', scores_train_nys_l2, delimiter=',')\n",
    "np.savetxt('MillionSongs_results/times_nys_l2.csv', times_nys_l2, delimiter=',')\n",
    "np.savetxt('MillionSongs_results/list_C_nys.csv', list_C, delimiter=',')"
   ]
  },
  {
   "cell_type": "code",
   "execution_count": null,
   "metadata": {},
   "outputs": [],
   "source": [
    "fig = plt.figure(figsize=(20,7))\n",
    "\n",
    "# Plot of the performance\n",
    "\n",
    "ax1 = plt.subplot(1,2,1)\n",
    "\n",
    "y_max = max(max(np.mean(scores_nys_l1, axis=1) + np.std(scores_nys_l1, axis=1)),\n",
    "            max(np.mean(scores_train_nys_l1, axis=1) + np.std(scores_train_nys_l1, axis=1)),\n",
    "            max(np.mean(scores_nys_l2, axis=1) + np.std(scores_nys_l2, axis=1)),\n",
    "            max(np.mean(scores_train_nys_l2, axis=1) + np.std(scores_train_nys_l2, axis=1)),\n",
    "            score_lin, score_gauss)+1\n",
    "y_min = min(min(np.mean(scores_nys_l1, axis=1) - np.std(scores_nys_l1, axis=1)),\n",
    "            min(np.mean(scores_train_nys_l1, axis=1) - np.std(scores_train_nys_l1, axis=1)),\n",
    "            min(np.mean(scores_nys_l2, axis=1) - np.std(scores_nys_l2, axis=1)),\n",
    "            min(np.mean(scores_train_nys_l2, axis=1) - np.std(scores_train_nys_l2, axis=1)),\n",
    "            score_lin, score_gauss)-1\n",
    "\n",
    "ax1.set_ylim(y_min, y_max)\n",
    "\n",
    "ax1.plot(list_C, np.mean(scores_nys_l1, axis=1), '-', color='blue', label='LinearSVR with nys, loss L1')\n",
    "ax1.fill_between(list_C, np.mean(scores_nys_l1, axis=1) - np.std(scores_nys_l1, axis=1),\n",
    "                 np.mean(scores_nys_l1, axis=1) + np.std(scores_nys_l1, axis=1), \n",
    "                 color='blue', alpha=0.15)\n",
    "\n",
    "ax1.plot(list_C, np.mean(scores_train_nys_l1, axis=1), '*', markersize=8, color='dodgerblue',\n",
    "         label='LinearSVR with nys, loss L1, training')\n",
    "ax1.plot(list_C, np.mean(scores_train_nys_l1, axis=1) - np.std(scores_train_nys_l1, axis=1), ':',color='dodgerblue')\n",
    "ax1.plot(list_C, np.mean(scores_train_nys_l1, axis=1) + np.std(scores_train_nys_l1, axis=1), ':',color='dodgerblue')\n",
    "\n",
    "ax1.plot(list_C, np.mean(scores_nys_l2, axis=1), '-', color='darkgreen', label='LinearSVR with nys, loss L2')\n",
    "ax1.fill_between(list_C, np.mean(scores_nys_l2, axis=1) - np.std(scores_nys_l2, axis=1),\n",
    "                 np.mean(scores_nys_l2, axis=1) + np.std(scores_nys_l2, axis=1), \n",
    "                 color='darkgreen', alpha=0.15)\n",
    "\n",
    "ax1.plot(list_C, np.mean(scores_train_nys_l2, axis=1), '*', markersize=8, color='lightgreen',\n",
    "         label='LinearSVR with nys, loss L2, training')\n",
    "ax1.plot(list_C, np.mean(scores_train_nys_l2, axis=1) - np.std(scores_train_nys_l2, axis=1), ':',color='lightgreen')\n",
    "ax1.plot(list_C, np.mean(scores_train_nys_l2, axis=1) + np.std(scores_train_nys_l2, axis=1), ':',color='lightgreen')\n",
    "\n",
    "ax1.axhline(y=score_lin, color='darkorange', linestyle='--', label='LinearSVR')\n",
    "ax1.axhline(y=score_gauss, color='r', linestyle='--', label='SVR with gaussian kernel')\n",
    "\n",
    "ax1.set_title(\"Performance evolution with C, regularization parameter\")\n",
    "ax1.set_xlabel(\"C\")\n",
    "ax1.set_ylabel(\"Mean squared error\")\n",
    "\n",
    "handles, labels = ax1.get_legend_handles_labels()\n",
    "handles = [copy.copy(ha) for ha in handles ]\n",
    "handles[1].set_linestyle(':')\n",
    "handles[3].set_linestyle(':')\n",
    "ax1.legend(loc='upper right', handles=handles, labels=labels)\n",
    "\n",
    "# Plot of the execution time\n",
    "\n",
    "ax2 = plt.subplot(1,2,2)\n",
    "\n",
    "y_max = max(max(np.mean(times_nys_l1, axis=1) + np.std(times_nys_l1, axis=1)),\n",
    "            max(np.mean(times_nys_l2, axis=1) + np.std(times_nys_l2, axis=1)),\n",
    "            time_lin)+5\n",
    "y_min = min(min(np.mean(times_nys_l1, axis=1) - np.std(times_nys_l1, axis=1)),\n",
    "            min(np.mean(times_nys_l2, axis=1) - np.std(times_nys_l2, axis=1)),\n",
    "            time_lin)-5\n",
    "\n",
    "ax2.set_ylim(y_min, y_max)\n",
    "\n",
    "ax2.plot(list_C, np.mean(times_nys_l1, axis=1), '-', color='blue', label='LinearSVR with nys, loss L1')\n",
    "ax2.fill_between(list_C, np.mean(times_nys_l1, axis=1) - np.std(times_nys_l1, axis=1),\n",
    "                 np.mean(times_nys_l1, axis=1) + np.std(times_nys_l1, axis=1), \n",
    "                 color='blue', alpha=0.15)\n",
    "\n",
    "ax2.plot(list_C, np.mean(times_nys_l2, axis=1), '-', color='green', label='LinearSVR with nys, loss L2')\n",
    "ax2.fill_between(list_C, np.mean(times_nys_l2, axis=1) - np.std(times_nys_l2, axis=1),\n",
    "                 np.mean(times_nys_l2, axis=1) + np.std(times_nys_l2, axis=1), \n",
    "                 color='green', alpha=0.15)\n",
    "\n",
    "ax2.axhline(y=time_lin, color='darkorange', linestyle='--', label='LinearSVR')\n",
    "ax2.axhline(y=time_gauss, color='r', linestyle='--', label='SVR with gaussian kernel')\n",
    "\n",
    "ax2.set_title(\"Execution time evolution with C, regularization parameter\")\n",
    "ax2.set_xlabel(\"C\")\n",
    "ax2.set_ylabel(\"Execution time in seconds\")\n",
    "\n",
    "ax2.legend(loc='upper left')\n",
    "\n",
    "plt.savefig(\"Regularization_influence_CT_nys\")\n",
    "plt.show()"
   ]
  },
  {
   "cell_type": "code",
   "execution_count": null,
   "metadata": {},
   "outputs": [],
   "source": [
    "print(\"SVR with gaussian kernel execution time:\", time_gauss)"
   ]
  }
 ],
 "metadata": {
  "kernelspec": {
   "display_name": "Python 3",
   "language": "python",
   "name": "python3"
  },
  "language_info": {
   "codemirror_mode": {
    "name": "ipython",
    "version": 3
   },
   "file_extension": ".py",
   "mimetype": "text/x-python",
   "name": "python",
   "nbconvert_exporter": "python",
   "pygments_lexer": "ipython3",
   "version": "3.6.6"
  }
 },
 "nbformat": 4,
 "nbformat_minor": 4
}
